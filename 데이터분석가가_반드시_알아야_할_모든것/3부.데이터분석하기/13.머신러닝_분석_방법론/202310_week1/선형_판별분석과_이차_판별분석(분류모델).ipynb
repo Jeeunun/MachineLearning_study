{
 "cells": [
  {
   "cell_type": "markdown",
   "metadata": {},
   "source": [
    "## 선형 판별분석과 이차 판별분석(분류모델)\n",
    "통계기반의 데이터 분류 모델\n",
    "\n",
    "### 판별분석 \n",
    "1) 종속변수 : 질적척도 \n",
    "- 범주가 2개 = 일반 판별분석 혹은 두 집단 판별분석\n",
    "- 범주가 3개 이상 = 다중 판별분석\n",
    "- 범주를 구분하는 결정경계선을 산출하는 방식에는 `선형판별분석(LDA)` 와 `이차판별분석(QDA)`으로 구분\n",
    "\n",
    "2) 독립변수 : 최소 제곱법-> 최적의 가중치 구한다. & 정규분포를 따르지 않아도 괜찮음.\n",
    "\n",
    "3) 판별분석은 독립변수들 간의 조합을 통해 최적의 분류식을 만드는 방식이기 때문에 모든 독립변수를 넣는 것보다는 분류에 유의미한 변수를 선택하여 모델을 만드는 것이 좋다. (회귀분석과 같이 전진선택법, 후진제거법, 단계적 선택법 등의 변수선택방법을 사용하여 모델의 성능을 향상시킬 수 있다.)\n",
    "\n",
    "### 선형 판별분석\n",
    "- 목적 : 분류, 차원축소(PCA:비지도학습, 선형 판별분석:지도학습)\n",
    "\n",
    "- 기본 원리 : 종속변수의 범주 간 분별 정보를 최대한 유지시키면서 차원을 축소시키는 방식으로 데이터의 오분률이 최소가 되는 축을 찾는다. \n",
    "\n",
    "- 방법 : 전체 범주의 분류 오차를 최소화하는 선형 판별점수를 도출한 뒤 모든 관측치의 분류점수를 도출. -> 분류점수를 통해 해당 관측치가 어느 범주에 속할 것인지를 예측할 수 있다. 즉, 집단 내 분산에 비해 집단 간 분산의 차이를 최대화하는 `독립변수의 함수`를 찾는 것. (ANOVA와 관련)\n",
    "\n",
    "- 수식 : $Z = a_0(판별상수) + a_1(판별계수)X_1 +...+ a_k(판별계수)X_k$ \n",
    "\n",
    "-> 각 범주에 대한 선형 판별함수가 도출되며, 관측치에 대하여 각 범주별 분류점수를 계산. 그 다음 가장 큰 분류점수를 갖는 범주로 관측치를 분류해준다.\n",
    "\n",
    "-> 예시를 통해 본 분류점수 계산하는 방법\n",
    "\n",
    "|선형판별분석|\n",
    "|변수|자동차보유|자동차미보유|\n",
    "|---|---|---|\n",
    "|constant|-118.53|-167.86|\n",
    "|연령|1.65|0.42|\n",
    "|연수익|0.036|0.016|\n",
    "\n",
    "|오분류비율|\n",
    "||자동차보유|자동차미보유|Total|\n",
    "|--|---|---|---|\n",
    "|Rate|0.25|0.07|0.18|\n",
    "\n",
    "\n",
    "Constant = 선형 판별분석의 상수\n",
    "\n",
    "if, A라는 사람이 30세에 연수익 3000만원 이라면, <br>\n",
    "자동차 보유 범주에 대한 분류점수: z=-118.53+1.65X30+0.036X3000=38.97 <br>\n",
    "자동차 미보유 범주에 대한 분류점수: z=-167.86+0.42X30+0.016X3000=5.34 <br>\n",
    "자동차 보유 점수가 미보유 점수보다 높기 때문에, A는 자동차보유 범주로 분류된다.\n",
    "\n",
    "그리고 자동차 보유와 미보유 범주 분류에 대한 오분류 비율 확인하기 => 모델의 정확도 평가(Eigenvalue고유값 사용) *고유값: 집단 간 차이의 제곱합을 집단 내 차이의 제곱합으로 나누어 계산(집단 간 차이 제곱합이 클수록(=분산이 클수록), 집단 내 차이 제곱합이 작을수록(=분산이 작을수록) 고유값 커짐(설명력이 높다)). 일반적으로 고유값이 4.0이상이면 설명력이 있다고 판단\n",
    "\n",
    "\n",
    "- 조건 1) 데이터가 정규분포 2) 각각의 범주들은 동일한 공분산 행렬 3) 독립변수들은 통계적으로 상호독립적\n",
    "\n",
    "-> (3) 조건이 충족되지 않을 경우 이차 판별분석 방법 사용\n",
    "\n",
    "\n",
    "### 이차 판별분석\n",
    "- 이차 판별분석은 선형 판별분석이 공분산 구조가 많이 다른 범주의 데이터를 잘 분류하지 못한다는 단점으로 보완한 방법. (= 범주 간의 공분산 구조가 다를때 이차 판별분석 사용.)\n",
    "\n",
    "- 이차 판별분석은 비선형 분류가 가능하다는 장점이 있지만 독립변수가 많을 경우 추정해야 하는 모수가 많아져서 선형 판별분석에 비해 연산량이 큰 단점이 있다.\n",
    "\n",
    "- 오분류 기대비용(이게 몽미..?ㅎ)\n",
    "\n"
   ]
  },
  {
   "cell_type": "markdown",
   "metadata": {},
   "source": [
    "## 실습 : 신체정보로 성별을 분류하는 모델 만들기"
   ]
  },
  {
   "cell_type": "markdown",
   "metadata": {},
   "source": [
    "1. 패키지 임포트"
   ]
  },
  {
   "cell_type": "code",
   "execution_count": 1,
   "metadata": {},
   "outputs": [],
   "source": [
    "import pandas as pd\n",
    "import numpy as np\n",
    "import seaborn as sb\n",
    "import matplotlib.pyplot as plt\n",
    "\n",
    "\n",
    "from sklearn.preprocessing import MinMaxScaler\n",
    "from sklearn.model_selection import train_test_split\n",
    "from sklearn.discriminant_analysis import LinearDiscriminantAnalysis #선형판별분석\n",
    "from sklearn.metrics import accuracy_score\n",
    "from sklearn.discriminant_analysis import QuadraticDiscriminantAnalysis #이차판별분석\n",
    "from sklearn.metrics import classification_report # \n"
   ]
  },
  {
   "cell_type": "markdown",
   "metadata": {},
   "source": [
    "2. 데이터 불러오기 및 확인"
   ]
  },
  {
   "cell_type": "code",
   "execution_count": 2,
   "metadata": {},
   "outputs": [
    {
     "data": {
      "text/html": [
       "<div>\n",
       "<style scoped>\n",
       "    .dataframe tbody tr th:only-of-type {\n",
       "        vertical-align: middle;\n",
       "    }\n",
       "\n",
       "    .dataframe tbody tr th {\n",
       "        vertical-align: top;\n",
       "    }\n",
       "\n",
       "    .dataframe thead th {\n",
       "        text-align: right;\n",
       "    }\n",
       "</style>\n",
       "<table border=\"1\" class=\"dataframe\">\n",
       "  <thead>\n",
       "    <tr style=\"text-align: right;\">\n",
       "      <th></th>\n",
       "      <th>age</th>\n",
       "      <th>gender</th>\n",
       "      <th>height_cm</th>\n",
       "      <th>weight_kg</th>\n",
       "      <th>body fat_%</th>\n",
       "      <th>diastolic</th>\n",
       "      <th>systolic</th>\n",
       "      <th>gripForce</th>\n",
       "      <th>sit and bend forward_cm</th>\n",
       "      <th>sit-ups counts</th>\n",
       "      <th>broad jump_cm</th>\n",
       "      <th>class</th>\n",
       "    </tr>\n",
       "  </thead>\n",
       "  <tbody>\n",
       "    <tr>\n",
       "      <th>0</th>\n",
       "      <td>27.0</td>\n",
       "      <td>M</td>\n",
       "      <td>172.3</td>\n",
       "      <td>75.24</td>\n",
       "      <td>21.3</td>\n",
       "      <td>80.0</td>\n",
       "      <td>130.0</td>\n",
       "      <td>54.9</td>\n",
       "      <td>18.4</td>\n",
       "      <td>60.0</td>\n",
       "      <td>217.0</td>\n",
       "      <td>C</td>\n",
       "    </tr>\n",
       "    <tr>\n",
       "      <th>1</th>\n",
       "      <td>25.0</td>\n",
       "      <td>M</td>\n",
       "      <td>165.0</td>\n",
       "      <td>55.80</td>\n",
       "      <td>15.7</td>\n",
       "      <td>77.0</td>\n",
       "      <td>126.0</td>\n",
       "      <td>36.4</td>\n",
       "      <td>16.3</td>\n",
       "      <td>53.0</td>\n",
       "      <td>229.0</td>\n",
       "      <td>A</td>\n",
       "    </tr>\n",
       "    <tr>\n",
       "      <th>2</th>\n",
       "      <td>31.0</td>\n",
       "      <td>M</td>\n",
       "      <td>179.6</td>\n",
       "      <td>78.00</td>\n",
       "      <td>20.1</td>\n",
       "      <td>92.0</td>\n",
       "      <td>152.0</td>\n",
       "      <td>44.8</td>\n",
       "      <td>12.0</td>\n",
       "      <td>49.0</td>\n",
       "      <td>181.0</td>\n",
       "      <td>C</td>\n",
       "    </tr>\n",
       "    <tr>\n",
       "      <th>3</th>\n",
       "      <td>32.0</td>\n",
       "      <td>M</td>\n",
       "      <td>174.5</td>\n",
       "      <td>71.10</td>\n",
       "      <td>18.4</td>\n",
       "      <td>76.0</td>\n",
       "      <td>147.0</td>\n",
       "      <td>41.4</td>\n",
       "      <td>15.2</td>\n",
       "      <td>53.0</td>\n",
       "      <td>219.0</td>\n",
       "      <td>B</td>\n",
       "    </tr>\n",
       "    <tr>\n",
       "      <th>4</th>\n",
       "      <td>28.0</td>\n",
       "      <td>M</td>\n",
       "      <td>173.8</td>\n",
       "      <td>67.70</td>\n",
       "      <td>17.1</td>\n",
       "      <td>70.0</td>\n",
       "      <td>127.0</td>\n",
       "      <td>43.5</td>\n",
       "      <td>27.1</td>\n",
       "      <td>45.0</td>\n",
       "      <td>217.0</td>\n",
       "      <td>B</td>\n",
       "    </tr>\n",
       "    <tr>\n",
       "      <th>...</th>\n",
       "      <td>...</td>\n",
       "      <td>...</td>\n",
       "      <td>...</td>\n",
       "      <td>...</td>\n",
       "      <td>...</td>\n",
       "      <td>...</td>\n",
       "      <td>...</td>\n",
       "      <td>...</td>\n",
       "      <td>...</td>\n",
       "      <td>...</td>\n",
       "      <td>...</td>\n",
       "      <td>...</td>\n",
       "    </tr>\n",
       "    <tr>\n",
       "      <th>13388</th>\n",
       "      <td>25.0</td>\n",
       "      <td>M</td>\n",
       "      <td>172.1</td>\n",
       "      <td>71.80</td>\n",
       "      <td>16.2</td>\n",
       "      <td>74.0</td>\n",
       "      <td>141.0</td>\n",
       "      <td>35.8</td>\n",
       "      <td>17.4</td>\n",
       "      <td>47.0</td>\n",
       "      <td>198.0</td>\n",
       "      <td>C</td>\n",
       "    </tr>\n",
       "    <tr>\n",
       "      <th>13389</th>\n",
       "      <td>21.0</td>\n",
       "      <td>M</td>\n",
       "      <td>179.7</td>\n",
       "      <td>63.90</td>\n",
       "      <td>12.1</td>\n",
       "      <td>74.0</td>\n",
       "      <td>128.0</td>\n",
       "      <td>33.0</td>\n",
       "      <td>1.1</td>\n",
       "      <td>48.0</td>\n",
       "      <td>167.0</td>\n",
       "      <td>D</td>\n",
       "    </tr>\n",
       "    <tr>\n",
       "      <th>13390</th>\n",
       "      <td>39.0</td>\n",
       "      <td>M</td>\n",
       "      <td>177.2</td>\n",
       "      <td>80.50</td>\n",
       "      <td>20.1</td>\n",
       "      <td>78.0</td>\n",
       "      <td>132.0</td>\n",
       "      <td>63.5</td>\n",
       "      <td>16.4</td>\n",
       "      <td>45.0</td>\n",
       "      <td>229.0</td>\n",
       "      <td>A</td>\n",
       "    </tr>\n",
       "    <tr>\n",
       "      <th>13391</th>\n",
       "      <td>64.0</td>\n",
       "      <td>F</td>\n",
       "      <td>146.1</td>\n",
       "      <td>57.70</td>\n",
       "      <td>40.4</td>\n",
       "      <td>68.0</td>\n",
       "      <td>121.0</td>\n",
       "      <td>19.3</td>\n",
       "      <td>9.2</td>\n",
       "      <td>0.0</td>\n",
       "      <td>75.0</td>\n",
       "      <td>D</td>\n",
       "    </tr>\n",
       "    <tr>\n",
       "      <th>13392</th>\n",
       "      <td>34.0</td>\n",
       "      <td>M</td>\n",
       "      <td>164.0</td>\n",
       "      <td>66.10</td>\n",
       "      <td>19.5</td>\n",
       "      <td>82.0</td>\n",
       "      <td>150.0</td>\n",
       "      <td>35.9</td>\n",
       "      <td>7.1</td>\n",
       "      <td>51.0</td>\n",
       "      <td>180.0</td>\n",
       "      <td>C</td>\n",
       "    </tr>\n",
       "  </tbody>\n",
       "</table>\n",
       "<p>13393 rows × 12 columns</p>\n",
       "</div>"
      ],
      "text/plain": [
       "        age gender  height_cm  weight_kg  body fat_%  diastolic  systolic  \\\n",
       "0      27.0      M      172.3      75.24        21.3       80.0     130.0   \n",
       "1      25.0      M      165.0      55.80        15.7       77.0     126.0   \n",
       "2      31.0      M      179.6      78.00        20.1       92.0     152.0   \n",
       "3      32.0      M      174.5      71.10        18.4       76.0     147.0   \n",
       "4      28.0      M      173.8      67.70        17.1       70.0     127.0   \n",
       "...     ...    ...        ...        ...         ...        ...       ...   \n",
       "13388  25.0      M      172.1      71.80        16.2       74.0     141.0   \n",
       "13389  21.0      M      179.7      63.90        12.1       74.0     128.0   \n",
       "13390  39.0      M      177.2      80.50        20.1       78.0     132.0   \n",
       "13391  64.0      F      146.1      57.70        40.4       68.0     121.0   \n",
       "13392  34.0      M      164.0      66.10        19.5       82.0     150.0   \n",
       "\n",
       "       gripForce  sit and bend forward_cm  sit-ups counts  broad jump_cm class  \n",
       "0           54.9                     18.4            60.0          217.0     C  \n",
       "1           36.4                     16.3            53.0          229.0     A  \n",
       "2           44.8                     12.0            49.0          181.0     C  \n",
       "3           41.4                     15.2            53.0          219.0     B  \n",
       "4           43.5                     27.1            45.0          217.0     B  \n",
       "...          ...                      ...             ...            ...   ...  \n",
       "13388       35.8                     17.4            47.0          198.0     C  \n",
       "13389       33.0                      1.1            48.0          167.0     D  \n",
       "13390       63.5                     16.4            45.0          229.0     A  \n",
       "13391       19.3                      9.2             0.0           75.0     D  \n",
       "13392       35.9                      7.1            51.0          180.0     C  \n",
       "\n",
       "[13393 rows x 12 columns]"
      ]
     },
     "execution_count": 2,
     "metadata": {},
     "output_type": "execute_result"
    }
   ],
   "source": [
    "df = pd.read_csv('./datasets/bodyPerformance.csv')\n",
    "df"
   ]
  },
  {
   "cell_type": "code",
   "execution_count": 6,
   "metadata": {},
   "outputs": [
    {
     "name": "stdout",
     "output_type": "stream",
     "text": [
      "<class 'pandas.core.frame.DataFrame'>\n",
      "RangeIndex: 13393 entries, 0 to 13392\n",
      "Data columns (total 12 columns):\n",
      " #   Column                   Non-Null Count  Dtype  \n",
      "---  ------                   --------------  -----  \n",
      " 0   age                      13393 non-null  float64\n",
      " 1   gender                   13393 non-null  object \n",
      " 2   height_cm                13393 non-null  float64\n",
      " 3   weight_kg                13393 non-null  float64\n",
      " 4   body fat_%               13393 non-null  float64\n",
      " 5   diastolic                13393 non-null  float64\n",
      " 6   systolic                 13393 non-null  float64\n",
      " 7   gripForce                13393 non-null  float64\n",
      " 8   sit and bend forward_cm  13393 non-null  float64\n",
      " 9   sit-ups counts           13393 non-null  float64\n",
      " 10  broad jump_cm            13393 non-null  float64\n",
      " 11  class                    13393 non-null  object \n",
      "dtypes: float64(10), object(2)\n",
      "memory usage: 1.2+ MB\n"
     ]
    }
   ],
   "source": [
    "df.info()"
   ]
  },
  {
   "cell_type": "markdown",
   "metadata": {},
   "source": [
    "3. 키와 몸무게에 따른 성별 분포 시각화"
   ]
  },
  {
   "cell_type": "code",
   "execution_count": 5,
   "metadata": {},
   "outputs": [
    {
     "name": "stderr",
     "output_type": "stream",
     "text": [
      "C:\\Users\\hanjieun_2\\AppData\\Local\\Temp\\ipykernel_6164\\3545173256.py:10: UserWarning: \n",
      "\n",
      "`shade_lowest` has been replaced by `thresh`; setting `thresh=0.05.\n",
      "This will become an error in seaborn v0.13.0; please update your code.\n",
      "\n",
      "  ax = sb.kdeplot(x=df_man.height_cm, y=df_man.weight_kg, cmap='Blues', shade=False, shade_lowest=False, cbar=False)\n",
      "C:\\Users\\hanjieun_2\\AppData\\Local\\Temp\\ipykernel_6164\\3545173256.py:10: FutureWarning: \n",
      "\n",
      "`shade` is now deprecated in favor of `fill`; setting `fill=False`.\n",
      "This will become an error in seaborn v0.14.0; please update your code.\n",
      "\n",
      "  ax = sb.kdeplot(x=df_man.height_cm, y=df_man.weight_kg, cmap='Blues', shade=False, shade_lowest=False, cbar=False)\n",
      "C:\\Users\\hanjieun_2\\AppData\\Local\\Temp\\ipykernel_6164\\3545173256.py:11: UserWarning: \n",
      "\n",
      "`shade_lowest` has been replaced by `thresh`; setting `thresh=0.05.\n",
      "This will become an error in seaborn v0.13.0; please update your code.\n",
      "\n",
      "  ax = sb.kdeplot(x=df_woman.height_cm, y=df_woman.weight_kg, cmap='Reds', shade=False, shade_lowest=False)\n",
      "C:\\Users\\hanjieun_2\\AppData\\Local\\Temp\\ipykernel_6164\\3545173256.py:11: FutureWarning: \n",
      "\n",
      "`shade` is now deprecated in favor of `fill`; setting `fill=False`.\n",
      "This will become an error in seaborn v0.14.0; please update your code.\n",
      "\n",
      "  ax = sb.kdeplot(x=df_woman.height_cm, y=df_woman.weight_kg, cmap='Reds', shade=False, shade_lowest=False)\n"
     ]
    },
    {
     "data": {
      "image/png": "[encoded data removed]",
      "text/plain": [
       "<Figure size 1000x800 with 1 Axes>"
      ]
     },
     "metadata": {},
     "output_type": "display_data"
    }
   ],
   "source": [
    "# 성별 구분 데이터셋 생성\n",
    "df_man = df.loc[df['gender']=='M']\n",
    "df_woman = df.loc[df['gender']=='F']\n",
    "\n",
    "# 그래프 설정\n",
    "f,ax = plt.subplots(figsize=(10,8))\n",
    "ax.set_aspect('equal')\n",
    "\n",
    "# 가로길이, 세로길이 변수 축 설정\n",
    "ax = sb.kdeplot(x=df_man.height_cm, y=df_man.weight_kg, cmap='Blues', shade=False, shade_lowest=False, cbar=False)\n",
    "ax = sb.kdeplot(x=df_woman.height_cm, y=df_woman.weight_kg, cmap='Reds', shade=False, shade_lowest=False)\n",
    "\n",
    "red = sb.color_palette('Reds')[-2]\n",
    "blue = sb.color_palette('Blues')[-2]"
   ]
  },
  {
   "cell_type": "markdown",
   "metadata": {},
   "source": [
    "> ax.set_aspect 파라미터\n",
    "- 'auto': fill the position rectangle with data.\n",
    "- 'equal': same as aspect=1, i.e. same scaling for x and y."
   ]
  },
  {
   "cell_type": "markdown",
   "metadata": {},
   "source": [
    "> 독립변수 height_cm, weight_kg 칼럼의 수치에 따라 남성과 여성의 분포 확인가능\n",
    "\n",
    "> 남성은 175cm,70kg 에 주로 분포 + 여성은 160cm,55kg에 주로 분포\n",
    "\n",
    "> 일부공간은 성별이 겹쳐있는 것을 알 수 있다."
   ]
  },
  {
   "cell_type": "markdown",
   "metadata": {},
   "source": [
    "4. 독립변수 정규화 스케일링"
   ]
  },
  {
   "cell_type": "code",
   "execution_count": 7,
   "metadata": {},
   "outputs": [
    {
     "data": {
      "text/html": [
       "<div>\n",
       "<style scoped>\n",
       "    .dataframe tbody tr th:only-of-type {\n",
       "        vertical-align: middle;\n",
       "    }\n",
       "\n",
       "    .dataframe tbody tr th {\n",
       "        vertical-align: top;\n",
       "    }\n",
       "\n",
       "    .dataframe thead th {\n",
       "        text-align: right;\n",
       "    }\n",
       "</style>\n",
       "<table border=\"1\" class=\"dataframe\">\n",
       "  <thead>\n",
       "    <tr style=\"text-align: right;\">\n",
       "      <th></th>\n",
       "      <th>height_cm</th>\n",
       "      <th>weight_kg</th>\n",
       "      <th>body fat_%</th>\n",
       "      <th>diastolic</th>\n",
       "      <th>systolic</th>\n",
       "      <th>gripForce</th>\n",
       "      <th>sit and bend forward_cm</th>\n",
       "      <th>sit-ups counts</th>\n",
       "      <th>broad jump_cm</th>\n",
       "    </tr>\n",
       "  </thead>\n",
       "  <tbody>\n",
       "    <tr>\n",
       "      <th>0</th>\n",
       "      <td>0.687500</td>\n",
       "      <td>0.437746</td>\n",
       "      <td>0.242706</td>\n",
       "      <td>0.512164</td>\n",
       "      <td>0.646766</td>\n",
       "      <td>0.778723</td>\n",
       "      <td>0.182353</td>\n",
       "      <td>0.7500</td>\n",
       "      <td>0.716172</td>\n",
       "    </tr>\n",
       "    <tr>\n",
       "      <th>1</th>\n",
       "      <td>0.581395</td>\n",
       "      <td>0.263864</td>\n",
       "      <td>0.168435</td>\n",
       "      <td>0.492958</td>\n",
       "      <td>0.626866</td>\n",
       "      <td>0.516312</td>\n",
       "      <td>0.173529</td>\n",
       "      <td>0.6625</td>\n",
       "      <td>0.755776</td>\n",
       "    </tr>\n",
       "    <tr>\n",
       "      <th>2</th>\n",
       "      <td>0.793605</td>\n",
       "      <td>0.462433</td>\n",
       "      <td>0.226790</td>\n",
       "      <td>0.588988</td>\n",
       "      <td>0.756219</td>\n",
       "      <td>0.635461</td>\n",
       "      <td>0.155462</td>\n",
       "      <td>0.6125</td>\n",
       "      <td>0.597360</td>\n",
       "    </tr>\n",
       "    <tr>\n",
       "      <th>3</th>\n",
       "      <td>0.719477</td>\n",
       "      <td>0.400716</td>\n",
       "      <td>0.204244</td>\n",
       "      <td>0.486556</td>\n",
       "      <td>0.731343</td>\n",
       "      <td>0.587234</td>\n",
       "      <td>0.168908</td>\n",
       "      <td>0.6625</td>\n",
       "      <td>0.722772</td>\n",
       "    </tr>\n",
       "    <tr>\n",
       "      <th>4</th>\n",
       "      <td>0.709302</td>\n",
       "      <td>0.370304</td>\n",
       "      <td>0.187003</td>\n",
       "      <td>0.448143</td>\n",
       "      <td>0.631841</td>\n",
       "      <td>0.617021</td>\n",
       "      <td>0.218908</td>\n",
       "      <td>0.5625</td>\n",
       "      <td>0.716172</td>\n",
       "    </tr>\n",
       "  </tbody>\n",
       "</table>\n",
       "</div>"
      ],
      "text/plain": [
       "   height_cm  weight_kg  body fat_%  diastolic  systolic  gripForce  \\\n",
       "0   0.687500   0.437746    0.242706   0.512164  0.646766   0.778723   \n",
       "1   0.581395   0.263864    0.168435   0.492958  0.626866   0.516312   \n",
       "2   0.793605   0.462433    0.226790   0.588988  0.756219   0.635461   \n",
       "3   0.719477   0.400716    0.204244   0.486556  0.731343   0.587234   \n",
       "4   0.709302   0.370304    0.187003   0.448143  0.631841   0.617021   \n",
       "\n",
       "   sit and bend forward_cm  sit-ups counts  broad jump_cm  \n",
       "0                 0.182353          0.7500       0.716172  \n",
       "1                 0.173529          0.6625       0.755776  \n",
       "2                 0.155462          0.6125       0.597360  \n",
       "3                 0.168908          0.6625       0.722772  \n",
       "4                 0.218908          0.5625       0.716172  "
      ]
     },
     "execution_count": 7,
     "metadata": {},
     "output_type": "execute_result"
    }
   ],
   "source": [
    "# 독립변수. 종속변수 분리\n",
    "df_x = df.drop(['gender', 'age', 'class'], axis=1) #age, class는 중요하지 않으니까 삭제\n",
    "df_y = df[['gender']]\n",
    "\n",
    "# 데이터 정규화 적용\n",
    "MinMaxScaler = MinMaxScaler()\n",
    "df_minmax = MinMaxScaler.fit_transform(df_x)\n",
    "\n",
    "# 컬럼명 결합\n",
    "df_x = pd.DataFrame(data=df_minmax, columns=df_x.columns)\n",
    "df_x.head()"
   ]
  },
  {
   "cell_type": "markdown",
   "metadata": {},
   "source": [
    "5. 학습셋과 테스트셋 분리"
   ]
  },
  {
   "cell_type": "code",
   "execution_count": 8,
   "metadata": {},
   "outputs": [
    {
     "name": "stdout",
     "output_type": "stream",
     "text": [
      "train data 개수: 9375\n",
      "test data 개수: 4018\n"
     ]
    }
   ],
   "source": [
    "# 학습셋과 테스트셋 분리하여 생성(7:3)\n",
    "x_train, x_test, y_train, y_test = train_test_split(df_x, df_y, test_size=0.3, random_state=10)\n",
    "\n",
    "# 학습셋과 검증셋이 잘 나뉘었는지 확인\n",
    "print('train data 개수:', len(x_train))\n",
    "print('test data 개수:', len(x_test))"
   ]
  },
  {
   "cell_type": "markdown",
   "metadata": {},
   "source": [
    "6. 선형 판별모델 모델 적용"
   ]
  },
  {
   "cell_type": "code",
   "execution_count": 9,
   "metadata": {},
   "outputs": [
    {
     "name": "stdout",
     "output_type": "stream",
     "text": [
      "0.9784533333333333\n",
      "0.9810851169736187\n"
     ]
    },
    {
     "name": "stderr",
     "output_type": "stream",
     "text": [
      "c:\\Users\\hanjieun_2\\AppData\\Local\\Programs\\Python\\Python39\\lib\\site-packages\\sklearn\\utils\\validation.py:1184: DataConversionWarning: A column-vector y was passed when a 1d array was expected. Please change the shape of y to (n_samples, ), for example using ravel().\n",
      "  y = column_or_1d(y, warn=True)\n"
     ]
    }
   ],
   "source": [
    "# 모델 생성\n",
    "LDA_1 = LinearDiscriminantAnalysis(store_covariance=True)\n",
    "\n",
    "# LDA 적합(훈련시키기)\n",
    "LDA_1.fit(x_train, y_train) \n",
    "\n",
    "# 예측값 생성\n",
    "y_train_pred = LDA_1.predict(x_train)\n",
    "y_test_pred = LDA_1.predict(x_test)\n",
    "\n",
    "# 모델 평가(정확도)\n",
    "print(accuracy_score(y_train, y_train_pred))\n",
    "print(accuracy_score(y_test, y_test_pred))"
   ]
  },
  {
   "cell_type": "markdown",
   "metadata": {},
   "source": [
    "> store_covariancebool, default=False\n",
    "\n",
    "If True, explicitly compute the weighted within-class covariance matrix when solver is ‘svd’. The matrix is always computed and stored for the other solvers.\n",
    "\n",
    "True인경우 solver ='svd'일때 가중치가 있는 클래스 내 공분산 행렬을 명시적으로 계산. 행렬은 항상 다른 solver에 대해 계산되고 저장.\n",
    "\n",
    "> solver : {‘svd’, ‘lsqr’, ‘eigen’}, default=’svd’\n",
    "\n",
    "Solver to use, possible values:\n",
    "‘svd’: Singular value decomposition (default). Does not compute the covariance matrix, therefore this solver is recommended for data with a large number of features.\n",
    "\n",
    "‘lsqr’: Least squares solution. Can be combined with shrinkage or custom covariance estimator.\n",
    "\n",
    "‘eigen’: Eigenvalue decomposition. Can be combined with shrinkage or custom covariance estimator."
   ]
  },
  {
   "cell_type": "markdown",
   "metadata": {},
   "source": [
    "7. 선형 판별분석 모델의 상수와 계숫값 출력"
   ]
  },
  {
   "cell_type": "code",
   "execution_count": 10,
   "metadata": {},
   "outputs": [
    {
     "name": "stdout",
     "output_type": "stream",
     "text": [
      "Intercept: [-14.29894437]\n",
      "Cofficient: [[ -1.35700815  26.12716198 -29.708912     4.0661269   10.03194981\n",
      "   18.0750803  -57.34544185  -3.81399695  15.48677609]]\n"
     ]
    }
   ],
   "source": [
    "print('Intercept:', LDA_1.intercept_)\n",
    "print('Cofficient:', LDA_1.coef_)"
   ]
  },
  {
   "cell_type": "code",
   "execution_count": 11,
   "metadata": {},
   "outputs": [
    {
     "data": {
      "text/plain": [
       "Index(['height_cm', 'weight_kg', 'body fat_%', 'diastolic', 'systolic',\n",
       "       'gripForce', 'sit and bend forward_cm', 'sit-ups counts',\n",
       "       'broad jump_cm'],\n",
       "      dtype='object')"
      ]
     },
     "execution_count": 11,
     "metadata": {},
     "output_type": "execute_result"
    }
   ],
   "source": [
    "df_x.columns"
   ]
  },
  {
   "cell_type": "markdown",
   "metadata": {},
   "source": [
    "> z = -14.29894437  -1.35700815 x ('height_cm') +26.12716198 x ('weight_kg') -29.708912 x ('body fat_%') + 4.0661269 x ('diastolic') + 10.03194981 x ('systolic') + 18.0750803 x ('gripForce') -57.34544185 x ('sit and bend forward_cm') -3.81399695 x ('sit-ups counts') + 15.48677609 x ('broad jump_cm')"
   ]
  },
  {
   "cell_type": "markdown",
   "metadata": {},
   "source": [
    "8. 선형 판별분석 차원축소 적용"
   ]
  },
  {
   "cell_type": "code",
   "execution_count": 15,
   "metadata": {},
   "outputs": [
    {
     "name": "stderr",
     "output_type": "stream",
     "text": [
      "c:\\Users\\hanjieun_2\\AppData\\Local\\Programs\\Python\\Python39\\lib\\site-packages\\sklearn\\utils\\validation.py:1184: DataConversionWarning: A column-vector y was passed when a 1d array was expected. Please change the shape of y to (n_samples, ), for example using ravel().\n",
      "  y = column_or_1d(y, warn=True)\n",
      "C:\\Users\\hanjieun_2\\AppData\\Local\\Temp\\ipykernel_6164\\1478780301.py:15: UserWarning: \n",
      "\n",
      "`distplot` is a deprecated function and will be removed in seaborn v0.14.0.\n",
      "\n",
      "Please adapt your code to use either `displot` (a figure-level function with\n",
      "similar flexibility) or `histplot` (an axes-level function for histograms).\n",
      "\n",
      "For a guide to updating your code to use the new functions, please see\n",
      "https://gist.github.com/mwaskom/de44147ed2974457ad6372750bbe5751\n",
      "\n",
      "  sb.distplot(df.loc[df['gender']=='M', 'height_cm'], hist=True, kde=False, color='blue', label='man', ax=axs[0])\n",
      "C:\\Users\\hanjieun_2\\AppData\\Local\\Temp\\ipykernel_6164\\1478780301.py:16: UserWarning: \n",
      "\n",
      "`distplot` is a deprecated function and will be removed in seaborn v0.14.0.\n",
      "\n",
      "Please adapt your code to use either `displot` (a figure-level function with\n",
      "similar flexibility) or `histplot` (an axes-level function for histograms).\n",
      "\n",
      "For a guide to updating your code to use the new functions, please see\n",
      "https://gist.github.com/mwaskom/de44147ed2974457ad6372750bbe5751\n",
      "\n",
      "  sb.distplot(df.loc[df['gender']=='F', 'height_cm'], hist=True, kde=False, color='orange', label='woman', ax=axs[0])\n",
      "C:\\Users\\hanjieun_2\\AppData\\Local\\Temp\\ipykernel_6164\\1478780301.py:19: UserWarning: \n",
      "\n",
      "`distplot` is a deprecated function and will be removed in seaborn v0.14.0.\n",
      "\n",
      "Please adapt your code to use either `displot` (a figure-level function with\n",
      "similar flexibility) or `histplot` (an axes-level function for histograms).\n",
      "\n",
      "For a guide to updating your code to use the new functions, please see\n",
      "https://gist.github.com/mwaskom/de44147ed2974457ad6372750bbe5751\n",
      "\n",
      "  sb.distplot(df_lda_component.loc[df_lda_component['target']=='M', 'lda_component'], hist=True, kde=False, color='blue', label='man', ax=axs[1])\n",
      "C:\\Users\\hanjieun_2\\AppData\\Local\\Temp\\ipykernel_6164\\1478780301.py:20: UserWarning: \n",
      "\n",
      "`distplot` is a deprecated function and will be removed in seaborn v0.14.0.\n",
      "\n",
      "Please adapt your code to use either `displot` (a figure-level function with\n",
      "similar flexibility) or `histplot` (an axes-level function for histograms).\n",
      "\n",
      "For a guide to updating your code to use the new functions, please see\n",
      "https://gist.github.com/mwaskom/de44147ed2974457ad6372750bbe5751\n",
      "\n",
      "  sb.distplot(df_lda_component.loc[df_lda_component['target']=='F', 'lda_component'], hist=True, kde=False, color='orange', label='woman', ax=axs[1])\n"
     ]
    },
    {
     "data": {
      "text/plain": [
       "<Axes: xlabel='lda_component'>"
      ]
     },
     "execution_count": 15,
     "metadata": {},
     "output_type": "execute_result"
    },
    {
     "data": {
      "image/png": "[encoded data removed]",
      "text/plain": [
       "<Figure size 1600x800 with 2 Axes>"
      ]
     },
     "metadata": {},
     "output_type": "display_data"
    }
   ],
   "source": [
    "# 주성분 한 개로 설정\n",
    "lda_com = LinearDiscriminantAnalysis(n_components=1)\n",
    "lda_com.fit(x_train, y_train)\n",
    "df_lda_com = lda_com.transform(x_train)\n",
    "df_lda_component = pd.DataFrame(df_lda_com, columns=['lda_component'])\n",
    "\n",
    "# 종속변수 데이터셋 인덱스 초기화 및 결합\n",
    "y_train_index = y_train.reset_index()\n",
    "df_lda_component['target'] = y_train_index['gender']\n",
    "\n",
    "# 차원축소 요소 분별력 비교 시각화 설정\n",
    "fig, axs = plt.subplots(figsize=(16,8), ncols=2, nrows=1)\n",
    "\n",
    "# 키 요소의 분별력\n",
    "sb.distplot(df.loc[df['gender']=='M', 'height_cm'], hist=True, kde=False, color='blue', label='man', ax=axs[0])\n",
    "sb.distplot(df.loc[df['gender']=='F', 'height_cm'], hist=True, kde=False, color='orange', label='woman', ax=axs[0])\n",
    "\n",
    "# 차원축소 주성분의 분별력\n",
    "sb.distplot(df_lda_component.loc[df_lda_component['target']=='M', 'lda_component'], hist=True, kde=False, color='blue', label='man', ax=axs[1])\n",
    "sb.distplot(df_lda_component.loc[df_lda_component['target']=='F', 'lda_component'], hist=True, kde=False, color='orange', label='woman', ax=axs[1])"
   ]
  },
  {
   "cell_type": "markdown",
   "metadata": {},
   "source": [
    "> n_components = 1 옵션으로 9개의 독립변수를 하나의 차원으로 축소 \n",
    "\n",
    "> 산출한 주성분이 실제 성별 구분을 잘하는지 확인하기 위해 기존의 키(height_cm) 변수와 주성분을 시각화하여 비교. \n",
    "\n",
    "> 왼쪽 : 키 변수는 남성과 여성이 중복되는 공간이 큰 반면, 오른쪽 : 주성부는 매우 적은 부분만 중복"
   ]
  },
  {
   "cell_type": "markdown",
   "metadata": {},
   "source": [
    "9. 이차 판별분석 모델 적용"
   ]
  },
  {
   "cell_type": "code",
   "execution_count": 16,
   "metadata": {},
   "outputs": [
    {
     "name": "stdout",
     "output_type": "stream",
     "text": [
      "0.98048\n",
      "0.9798407167745147\n"
     ]
    },
    {
     "name": "stderr",
     "output_type": "stream",
     "text": [
      "c:\\Users\\hanjieun_2\\AppData\\Local\\Programs\\Python\\Python39\\lib\\site-packages\\sklearn\\utils\\validation.py:1184: DataConversionWarning: A column-vector y was passed when a 1d array was expected. Please change the shape of y to (n_samples, ), for example using ravel().\n",
      "  y = column_or_1d(y, warn=True)\n"
     ]
    }
   ],
   "source": [
    "# 모델 생성\n",
    "qda = QuadraticDiscriminantAnalysis(store_covariance=True)\n",
    "\n",
    "# QDA 적합(훈련시키기)\n",
    "qda.fit(x_train, y_train)\n",
    "\n",
    "# 예측값\n",
    "qda_y_train_pred= qda.predict(x_train)\n",
    "qda_y_test_pred = qda.predict(x_test)\n",
    "\n",
    "# 평가\n",
    "print(accuracy_score(y_train, qda_y_train_pred))\n",
    "print(accuracy_score(y_test, qda_y_test_pred))\n"
   ]
  },
  {
   "cell_type": "markdown",
   "metadata": {},
   "source": [
    "> 선형 판별분석과 이차 판별분석의 분류 예측력이 유사하게 나옴"
   ]
  },
  {
   "cell_type": "markdown",
   "metadata": {},
   "source": [
    "10. 이차 판별분석 모델 성능 리포트 출력"
   ]
  },
  {
   "cell_type": "code",
   "execution_count": 17,
   "metadata": {},
   "outputs": [
    {
     "name": "stdout",
     "output_type": "stream",
     "text": [
      "              precision    recall  f1-score   support\n",
      "\n",
      "           F       0.97      0.97      0.97      1463\n",
      "           M       0.98      0.98      0.98      2555\n",
      "\n",
      "    accuracy                           0.98      4018\n",
      "   macro avg       0.98      0.98      0.98      4018\n",
      "weighted avg       0.98      0.98      0.98      4018\n",
      "\n"
     ]
    }
   ],
   "source": [
    "print(classification_report(y_test, qda_y_test_pred))"
   ]
  },
  {
   "cell_type": "code",
   "execution_count": null,
   "metadata": {},
   "outputs": [],
   "source": []
  }
 ],
 "metadata": {
  "kernelspec": {
   "display_name": "Python 3",
   "language": "python",
   "name": "python3"
  },
  "language_info": {
   "codemirror_mode": {
    "name": "ipython",
    "version": 3
   },
   "file_extension": ".py",
   "mimetype": "text/x-python",
   "name": "python",
   "nbconvert_exporter": "python",
   "pygments_lexer": "ipython3",
   "version": "3.9.13"
  },
  "orig_nbformat": 4
 },
 "nbformat": 4,
 "nbformat_minor": 2
}
