{
 "cells": [
  {
   "cell_type": "markdown",
   "metadata": {},
   "source": [
    "# 로지스틱 회귀 (이진분류)\n",
    "\n",
    "시그모이드 함수(또는 로지스틱 함수) 사용하여 0과 1로 바꿈.\n",
    "(무한하게 큰 음수가 될 경우 0, 무한하게 큰 양수가 될 경우 1로)\n",
    "\n",
    "> 0~1 사이의 값을 0~100%까지의 확률로 해석할 수 있다. "
   ]
  },
  {
   "cell_type": "code",
   "execution_count": 3,
   "metadata": {},
   "outputs": [],
   "source": [
    "import pandas as pd\n",
    "import numpy as np\n",
    "np.set_printoptions(precision=6, suppress=True)\n",
    "import matplotlib.pyplot as plt"
   ]
  },
  {
   "cell_type": "markdown",
   "metadata": {},
   "source": [
    "1. numpy를 이용하여 시그모이드 함수 구현하기"
   ]
  },
  {
   "cell_type": "code",
   "execution_count": 4,
   "metadata": {},
   "outputs": [
    {
     "data": {
      "image/png": "[encoded data removed]",
      "text/plain": [
       "<Figure size 640x480 with 1 Axes>"
      ]
     },
     "metadata": {},
     "output_type": "display_data"
    }
   ],
   "source": [
    "z = np.arange(-5, 5, 0.1)\n",
    "phi = 1 / (1+np.exp(-z))\n",
    "plt.plot(z, phi)\n",
    "plt.xlabel('z')\n",
    "plt.ylabel('phi')\n",
    "plt.show()\n"
   ]
  },
  {
   "cell_type": "markdown",
   "metadata": {},
   "source": [
    "2. 시그모이드 함수를 이용하여 이진분류 - fish data 이용\n",
    "- 데이터 불러오기 및 확인, 분할\n",
    "> 0.5보다 작으면 0, 0.5보다 크면 1"
   ]
  },
  {
   "cell_type": "code",
   "execution_count": 5,
   "metadata": {},
   "outputs": [
    {
     "data": {
      "text/html": [
       "<div>\n",
       "<style scoped>\n",
       "    .dataframe tbody tr th:only-of-type {\n",
       "        vertical-align: middle;\n",
       "    }\n",
       "\n",
       "    .dataframe tbody tr th {\n",
       "        vertical-align: top;\n",
       "    }\n",
       "\n",
       "    .dataframe thead th {\n",
       "        text-align: right;\n",
       "    }\n",
       "</style>\n",
       "<table border=\"1\" class=\"dataframe\">\n",
       "  <thead>\n",
       "    <tr style=\"text-align: right;\">\n",
       "      <th></th>\n",
       "      <th>Species</th>\n",
       "      <th>Weight</th>\n",
       "      <th>Length</th>\n",
       "      <th>Diagonal</th>\n",
       "      <th>Height</th>\n",
       "      <th>Width</th>\n",
       "    </tr>\n",
       "  </thead>\n",
       "  <tbody>\n",
       "    <tr>\n",
       "      <th>0</th>\n",
       "      <td>Bream</td>\n",
       "      <td>242.0</td>\n",
       "      <td>25.4</td>\n",
       "      <td>30.0</td>\n",
       "      <td>11.5200</td>\n",
       "      <td>4.0200</td>\n",
       "    </tr>\n",
       "    <tr>\n",
       "      <th>1</th>\n",
       "      <td>Bream</td>\n",
       "      <td>290.0</td>\n",
       "      <td>26.3</td>\n",
       "      <td>31.2</td>\n",
       "      <td>12.4800</td>\n",
       "      <td>4.3056</td>\n",
       "    </tr>\n",
       "    <tr>\n",
       "      <th>2</th>\n",
       "      <td>Bream</td>\n",
       "      <td>340.0</td>\n",
       "      <td>26.5</td>\n",
       "      <td>31.1</td>\n",
       "      <td>12.3778</td>\n",
       "      <td>4.6961</td>\n",
       "    </tr>\n",
       "    <tr>\n",
       "      <th>3</th>\n",
       "      <td>Bream</td>\n",
       "      <td>363.0</td>\n",
       "      <td>29.0</td>\n",
       "      <td>33.5</td>\n",
       "      <td>12.7300</td>\n",
       "      <td>4.4555</td>\n",
       "    </tr>\n",
       "    <tr>\n",
       "      <th>4</th>\n",
       "      <td>Bream</td>\n",
       "      <td>430.0</td>\n",
       "      <td>29.0</td>\n",
       "      <td>34.0</td>\n",
       "      <td>12.4440</td>\n",
       "      <td>5.1340</td>\n",
       "    </tr>\n",
       "    <tr>\n",
       "      <th>...</th>\n",
       "      <td>...</td>\n",
       "      <td>...</td>\n",
       "      <td>...</td>\n",
       "      <td>...</td>\n",
       "      <td>...</td>\n",
       "      <td>...</td>\n",
       "    </tr>\n",
       "    <tr>\n",
       "      <th>154</th>\n",
       "      <td>Smelt</td>\n",
       "      <td>12.2</td>\n",
       "      <td>12.2</td>\n",
       "      <td>13.4</td>\n",
       "      <td>2.0904</td>\n",
       "      <td>1.3936</td>\n",
       "    </tr>\n",
       "    <tr>\n",
       "      <th>155</th>\n",
       "      <td>Smelt</td>\n",
       "      <td>13.4</td>\n",
       "      <td>12.4</td>\n",
       "      <td>13.5</td>\n",
       "      <td>2.4300</td>\n",
       "      <td>1.2690</td>\n",
       "    </tr>\n",
       "    <tr>\n",
       "      <th>156</th>\n",
       "      <td>Smelt</td>\n",
       "      <td>12.2</td>\n",
       "      <td>13.0</td>\n",
       "      <td>13.8</td>\n",
       "      <td>2.2770</td>\n",
       "      <td>1.2558</td>\n",
       "    </tr>\n",
       "    <tr>\n",
       "      <th>157</th>\n",
       "      <td>Smelt</td>\n",
       "      <td>19.7</td>\n",
       "      <td>14.3</td>\n",
       "      <td>15.2</td>\n",
       "      <td>2.8728</td>\n",
       "      <td>2.0672</td>\n",
       "    </tr>\n",
       "    <tr>\n",
       "      <th>158</th>\n",
       "      <td>Smelt</td>\n",
       "      <td>19.9</td>\n",
       "      <td>15.0</td>\n",
       "      <td>16.2</td>\n",
       "      <td>2.9322</td>\n",
       "      <td>1.8792</td>\n",
       "    </tr>\n",
       "  </tbody>\n",
       "</table>\n",
       "<p>159 rows × 6 columns</p>\n",
       "</div>"
      ],
      "text/plain": [
       "    Species  Weight  Length  Diagonal   Height   Width\n",
       "0     Bream   242.0    25.4      30.0  11.5200  4.0200\n",
       "1     Bream   290.0    26.3      31.2  12.4800  4.3056\n",
       "2     Bream   340.0    26.5      31.1  12.3778  4.6961\n",
       "3     Bream   363.0    29.0      33.5  12.7300  4.4555\n",
       "4     Bream   430.0    29.0      34.0  12.4440  5.1340\n",
       "..      ...     ...     ...       ...      ...     ...\n",
       "154   Smelt    12.2    12.2      13.4   2.0904  1.3936\n",
       "155   Smelt    13.4    12.4      13.5   2.4300  1.2690\n",
       "156   Smelt    12.2    13.0      13.8   2.2770  1.2558\n",
       "157   Smelt    19.7    14.3      15.2   2.8728  2.0672\n",
       "158   Smelt    19.9    15.0      16.2   2.9322  1.8792\n",
       "\n",
       "[159 rows x 6 columns]"
      ]
     },
     "execution_count": 5,
     "metadata": {},
     "output_type": "execute_result"
    }
   ],
   "source": [
    "fish = pd.read_csv('https://bit.ly/fish_csv_data')\n",
    "fish"
   ]
  },
  {
   "cell_type": "code",
   "execution_count": 6,
   "metadata": {},
   "outputs": [
    {
     "name": "stdout",
     "output_type": "stream",
     "text": [
      "['Bream' 'Roach' 'Whitefish' 'Parkki' 'Perch' 'Pike' 'Smelt']\n"
     ]
    }
   ],
   "source": [
    "print(pd.unique(fish['Species']))"
   ]
  },
  {
   "cell_type": "code",
   "execution_count": 7,
   "metadata": {},
   "outputs": [
    {
     "data": {
      "text/plain": [
       "array([[ 242.    ,   25.4   ,   30.    ,   11.52  ,    4.02  ],\n",
       "       [ 290.    ,   26.3   ,   31.2   ,   12.48  ,    4.3056],\n",
       "       [ 340.    ,   26.5   ,   31.1   ,   12.3778,    4.6961],\n",
       "       [ 363.    ,   29.    ,   33.5   ,   12.73  ,    4.4555],\n",
       "       [ 430.    ,   29.    ,   34.    ,   12.444 ,    5.134 ],\n",
       "       [ 450.    ,   29.7   ,   34.7   ,   13.6024,    4.9274],\n",
       "       [ 500.    ,   29.7   ,   34.5   ,   14.1795,    5.2785],\n",
       "       [ 390.    ,   30.    ,   35.    ,   12.67  ,    4.69  ],\n",
       "       [ 450.    ,   30.    ,   35.1   ,   14.0049,    4.8438],\n",
       "       [ 500.    ,   30.7   ,   36.2   ,   14.2266,    4.9594],\n",
       "       [ 475.    ,   31.    ,   36.2   ,   14.2628,    5.1042],\n",
       "       [ 500.    ,   31.    ,   36.2   ,   14.3714,    4.8146],\n",
       "       [ 500.    ,   31.5   ,   36.4   ,   13.7592,    4.368 ],\n",
       "       [ 340.    ,   32.    ,   37.3   ,   13.9129,    5.0728],\n",
       "       [ 600.    ,   32.    ,   37.2   ,   14.9544,    5.1708],\n",
       "       [ 600.    ,   32.    ,   37.2   ,   15.438 ,    5.58  ],\n",
       "       [ 700.    ,   33.    ,   38.3   ,   14.8604,    5.2854],\n",
       "       [ 700.    ,   33.    ,   38.5   ,   14.938 ,    5.1975],\n",
       "       [ 610.    ,   33.5   ,   38.6   ,   15.633 ,    5.1338],\n",
       "       [ 650.    ,   33.5   ,   38.7   ,   14.4738,    5.7276],\n",
       "       [ 575.    ,   34.    ,   39.5   ,   15.1285,    5.5695],\n",
       "       [ 685.    ,   34.    ,   39.2   ,   15.9936,    5.3704],\n",
       "       [ 620.    ,   34.5   ,   39.7   ,   15.5227,    5.2801],\n",
       "       [ 680.    ,   35.    ,   40.6   ,   15.4686,    6.1306],\n",
       "       [ 700.    ,   35.    ,   40.5   ,   16.2405,    5.589 ],\n",
       "       [ 725.    ,   35.    ,   40.9   ,   16.36  ,    6.0532],\n",
       "       [ 720.    ,   35.    ,   40.6   ,   16.3618,    6.09  ],\n",
       "       [ 714.    ,   36.    ,   41.5   ,   16.517 ,    5.8515],\n",
       "       [ 850.    ,   36.    ,   41.6   ,   16.8896,    6.1984],\n",
       "       [1000.    ,   37.    ,   42.6   ,   18.957 ,    6.603 ],\n",
       "       [ 920.    ,   38.5   ,   44.1   ,   18.0369,    6.3063],\n",
       "       [ 955.    ,   38.5   ,   44.    ,   18.084 ,    6.292 ],\n",
       "       [ 925.    ,   39.5   ,   45.3   ,   18.7542,    6.7497],\n",
       "       [ 975.    ,   41.    ,   45.9   ,   18.6354,    6.7473],\n",
       "       [ 950.    ,   41.    ,   46.5   ,   17.6235,    6.3705],\n",
       "       [  40.    ,   14.1   ,   16.2   ,    4.1472,    2.268 ],\n",
       "       [  69.    ,   18.2   ,   20.3   ,    5.2983,    2.8217],\n",
       "       [  78.    ,   18.8   ,   21.2   ,    5.5756,    2.9044],\n",
       "       [  87.    ,   19.8   ,   22.2   ,    5.6166,    3.1746],\n",
       "       [ 120.    ,   20.    ,   22.2   ,    6.216 ,    3.5742],\n",
       "       [   0.    ,   20.5   ,   22.8   ,    6.4752,    3.3516],\n",
       "       [ 110.    ,   20.8   ,   23.1   ,    6.1677,    3.3957],\n",
       "       [ 120.    ,   21.    ,   23.7   ,    6.1146,    3.2943],\n",
       "       [ 150.    ,   22.    ,   24.7   ,    5.8045,    3.7544],\n",
       "       [ 145.    ,   22.    ,   24.3   ,    6.6339,    3.5478],\n",
       "       [ 160.    ,   22.5   ,   25.3   ,    7.0334,    3.8203],\n",
       "       [ 140.    ,   22.5   ,   25.    ,    6.55  ,    3.325 ],\n",
       "       [ 160.    ,   22.5   ,   25.    ,    6.4   ,    3.8   ],\n",
       "       [ 169.    ,   24.    ,   27.2   ,    7.5344,    3.8352],\n",
       "       [ 161.    ,   23.4   ,   26.7   ,    6.9153,    3.6312],\n",
       "       [ 200.    ,   23.5   ,   26.8   ,    7.3968,    4.1272],\n",
       "       [ 180.    ,   25.2   ,   27.9   ,    7.0866,    3.906 ],\n",
       "       [ 290.    ,   26.    ,   29.2   ,    8.8768,    4.4968],\n",
       "       [ 272.    ,   27.    ,   30.6   ,    8.568 ,    4.7736],\n",
       "       [ 390.    ,   31.7   ,   35.    ,    9.485 ,    5.355 ],\n",
       "       [ 270.    ,   26.    ,   28.7   ,    8.3804,    4.2476],\n",
       "       [ 270.    ,   26.5   ,   29.3   ,    8.1454,    4.2485],\n",
       "       [ 306.    ,   28.    ,   30.8   ,    8.778 ,    4.6816],\n",
       "       [ 540.    ,   31.    ,   34.    ,   10.744 ,    6.562 ],\n",
       "       [ 800.    ,   36.4   ,   39.6   ,   11.7612,    6.5736],\n",
       "       [1000.    ,   40.    ,   43.5   ,   12.354 ,    6.525 ],\n",
       "       [  55.    ,   14.7   ,   16.5   ,    6.8475,    2.3265],\n",
       "       [  60.    ,   15.5   ,   17.4   ,    6.5772,    2.3142],\n",
       "       [  90.    ,   17.7   ,   19.8   ,    7.4052,    2.673 ],\n",
       "       [ 120.    ,   19.    ,   21.3   ,    8.3922,    2.9181],\n",
       "       [ 150.    ,   20.    ,   22.4   ,    8.8928,    3.2928],\n",
       "       [ 140.    ,   20.7   ,   23.2   ,    8.5376,    3.2944],\n",
       "       [ 170.    ,   20.7   ,   23.2   ,    9.396 ,    3.4104],\n",
       "       [ 145.    ,   21.5   ,   24.1   ,    9.7364,    3.1571],\n",
       "       [ 200.    ,   23.    ,   25.8   ,   10.3458,    3.6636],\n",
       "       [ 273.    ,   25.    ,   28.    ,   11.088 ,    4.144 ],\n",
       "       [ 300.    ,   26.    ,   29.    ,   11.368 ,    4.234 ],\n",
       "       [   5.9   ,    8.4   ,    8.8   ,    2.112 ,    1.408 ],\n",
       "       [  32.    ,   13.7   ,   14.7   ,    3.528 ,    1.9992],\n",
       "       [  40.    ,   15.    ,   16.    ,    3.824 ,    2.432 ],\n",
       "       [  51.5   ,   16.2   ,   17.2   ,    4.5924,    2.6316],\n",
       "       [  70.    ,   17.4   ,   18.5   ,    4.588 ,    2.9415],\n",
       "       [ 100.    ,   18.    ,   19.2   ,    5.2224,    3.3216],\n",
       "       [  78.    ,   18.7   ,   19.4   ,    5.1992,    3.1234],\n",
       "       [  80.    ,   19.    ,   20.2   ,    5.6358,    3.0502],\n",
       "       [  85.    ,   19.6   ,   20.8   ,    5.1376,    3.0368],\n",
       "       [  85.    ,   20.    ,   21.    ,    5.082 ,    2.772 ],\n",
       "       [ 110.    ,   21.    ,   22.5   ,    5.6925,    3.555 ],\n",
       "       [ 115.    ,   21.    ,   22.5   ,    5.9175,    3.3075],\n",
       "       [ 125.    ,   21.    ,   22.5   ,    5.6925,    3.6675],\n",
       "       [ 130.    ,   21.3   ,   22.8   ,    6.384 ,    3.534 ],\n",
       "       [ 120.    ,   22.    ,   23.5   ,    6.11  ,    3.4075],\n",
       "       [ 120.    ,   22.    ,   23.5   ,    5.64  ,    3.525 ],\n",
       "       [ 130.    ,   22.    ,   23.5   ,    6.11  ,    3.525 ],\n",
       "       [ 135.    ,   22.    ,   23.5   ,    5.875 ,    3.525 ],\n",
       "       [ 110.    ,   22.    ,   23.5   ,    5.5225,    3.995 ],\n",
       "       [ 130.    ,   22.5   ,   24.    ,    5.856 ,    3.624 ],\n",
       "       [ 150.    ,   22.5   ,   24.    ,    6.792 ,    3.624 ],\n",
       "       [ 145.    ,   22.7   ,   24.2   ,    5.9532,    3.63  ],\n",
       "       [ 150.    ,   23.    ,   24.5   ,    5.2185,    3.626 ],\n",
       "       [ 170.    ,   23.5   ,   25.    ,    6.275 ,    3.725 ],\n",
       "       [ 225.    ,   24.    ,   25.5   ,    7.293 ,    3.723 ],\n",
       "       [ 145.    ,   24.    ,   25.5   ,    6.375 ,    3.825 ],\n",
       "       [ 188.    ,   24.6   ,   26.2   ,    6.7334,    4.1658],\n",
       "       [ 180.    ,   25.    ,   26.5   ,    6.4395,    3.6835],\n",
       "       [ 197.    ,   25.6   ,   27.    ,    6.561 ,    4.239 ],\n",
       "       [ 218.    ,   26.5   ,   28.    ,    7.168 ,    4.144 ],\n",
       "       [ 300.    ,   27.3   ,   28.7   ,    8.323 ,    5.1373],\n",
       "       [ 260.    ,   27.5   ,   28.9   ,    7.1672,    4.335 ],\n",
       "       [ 265.    ,   27.5   ,   28.9   ,    7.0516,    4.335 ],\n",
       "       [ 250.    ,   27.5   ,   28.9   ,    7.2828,    4.5662],\n",
       "       [ 250.    ,   28.    ,   29.4   ,    7.8204,    4.2042],\n",
       "       [ 300.    ,   28.7   ,   30.1   ,    7.5852,    4.6354],\n",
       "       [ 320.    ,   30.    ,   31.6   ,    7.6156,    4.7716],\n",
       "       [ 514.    ,   32.8   ,   34.    ,   10.03  ,    6.018 ],\n",
       "       [ 556.    ,   34.5   ,   36.5   ,   10.2565,    6.3875],\n",
       "       [ 840.    ,   35.    ,   37.3   ,   11.4884,    7.7957],\n",
       "       [ 685.    ,   36.5   ,   39.    ,   10.881 ,    6.864 ],\n",
       "       [ 700.    ,   36.    ,   38.3   ,   10.6091,    6.7408],\n",
       "       [ 700.    ,   37.    ,   39.4   ,   10.835 ,    6.2646],\n",
       "       [ 690.    ,   37.    ,   39.3   ,   10.5717,    6.3666],\n",
       "       [ 900.    ,   39.    ,   41.4   ,   11.1366,    7.4934],\n",
       "       [ 650.    ,   39.    ,   41.4   ,   11.1366,    6.003 ],\n",
       "       [ 820.    ,   39.    ,   41.3   ,   12.4313,    7.3514],\n",
       "       [ 850.    ,   40.    ,   42.3   ,   11.9286,    7.1064],\n",
       "       [ 900.    ,   40.    ,   42.5   ,   11.73  ,    7.225 ],\n",
       "       [1015.    ,   40.    ,   42.4   ,   12.3808,    7.4624],\n",
       "       [ 820.    ,   40.    ,   42.5   ,   11.135 ,    6.63  ],\n",
       "       [1100.    ,   42.    ,   44.6   ,   12.8002,    6.8684],\n",
       "       [1000.    ,   43.    ,   45.2   ,   11.9328,    7.2772],\n",
       "       [1100.    ,   43.    ,   45.5   ,   12.5125,    7.4165],\n",
       "       [1000.    ,   43.5   ,   46.    ,   12.604 ,    8.142 ],\n",
       "       [1000.    ,   44.    ,   46.6   ,   12.4888,    7.5958],\n",
       "       [ 200.    ,   32.3   ,   34.8   ,    5.568 ,    3.3756],\n",
       "       [ 300.    ,   34.    ,   37.8   ,    5.7078,    4.158 ],\n",
       "       [ 300.    ,   35.    ,   38.8   ,    5.9364,    4.3844],\n",
       "       [ 300.    ,   37.3   ,   39.8   ,    6.2884,    4.0198],\n",
       "       [ 430.    ,   38.    ,   40.5   ,    7.29  ,    4.5765],\n",
       "       [ 345.    ,   38.5   ,   41.    ,    6.396 ,    3.977 ],\n",
       "       [ 456.    ,   42.5   ,   45.5   ,    7.28  ,    4.3225],\n",
       "       [ 510.    ,   42.5   ,   45.5   ,    6.825 ,    4.459 ],\n",
       "       [ 540.    ,   43.    ,   45.8   ,    7.786 ,    5.1296],\n",
       "       [ 500.    ,   45.    ,   48.    ,    6.96  ,    4.896 ],\n",
       "       [ 567.    ,   46.    ,   48.7   ,    7.792 ,    4.87  ],\n",
       "       [ 770.    ,   48.    ,   51.2   ,    7.68  ,    5.376 ],\n",
       "       [ 950.    ,   51.7   ,   55.1   ,    8.9262,    6.1712],\n",
       "       [1250.    ,   56.    ,   59.7   ,   10.6863,    6.9849],\n",
       "       [1600.    ,   60.    ,   64.    ,    9.6   ,    6.144 ],\n",
       "       [1550.    ,   60.    ,   64.    ,    9.6   ,    6.144 ],\n",
       "       [1650.    ,   63.4   ,   68.    ,   10.812 ,    7.48  ],\n",
       "       [   6.7   ,    9.8   ,   10.8   ,    1.7388,    1.0476],\n",
       "       [   7.5   ,   10.5   ,   11.6   ,    1.972 ,    1.16  ],\n",
       "       [   7.    ,   10.6   ,   11.6   ,    1.7284,    1.1484],\n",
       "       [   9.7   ,   11.    ,   12.    ,    2.196 ,    1.38  ],\n",
       "       [   9.8   ,   11.2   ,   12.4   ,    2.0832,    1.2772],\n",
       "       [   8.7   ,   11.3   ,   12.6   ,    1.9782,    1.2852],\n",
       "       [  10.    ,   11.8   ,   13.1   ,    2.2139,    1.2838],\n",
       "       [   9.9   ,   11.8   ,   13.1   ,    2.2139,    1.1659],\n",
       "       [   9.8   ,   12.    ,   13.2   ,    2.2044,    1.1484],\n",
       "       [  12.2   ,   12.2   ,   13.4   ,    2.0904,    1.3936],\n",
       "       [  13.4   ,   12.4   ,   13.5   ,    2.43  ,    1.269 ],\n",
       "       [  12.2   ,   13.    ,   13.8   ,    2.277 ,    1.2558],\n",
       "       [  19.7   ,   14.3   ,   15.2   ,    2.8728,    2.0672],\n",
       "       [  19.9   ,   15.    ,   16.2   ,    2.9322,    1.8792]])"
      ]
     },
     "execution_count": 7,
     "metadata": {},
     "output_type": "execute_result"
    }
   ],
   "source": [
    "fish_input = fish[['Weight', 'Length', 'Diagonal', 'Height', 'Width']].to_numpy()\n",
    "fish_input"
   ]
  },
  {
   "cell_type": "code",
   "execution_count": 8,
   "metadata": {},
   "outputs": [
    {
     "data": {
      "text/plain": [
       "array(['Bream', 'Bream', 'Bream', 'Bream', 'Bream', 'Bream', 'Bream',\n",
       "       'Bream', 'Bream', 'Bream', 'Bream', 'Bream', 'Bream', 'Bream',\n",
       "       'Bream', 'Bream', 'Bream', 'Bream', 'Bream', 'Bream', 'Bream',\n",
       "       'Bream', 'Bream', 'Bream', 'Bream', 'Bream', 'Bream', 'Bream',\n",
       "       'Bream', 'Bream', 'Bream', 'Bream', 'Bream', 'Bream', 'Bream',\n",
       "       'Roach', 'Roach', 'Roach', 'Roach', 'Roach', 'Roach', 'Roach',\n",
       "       'Roach', 'Roach', 'Roach', 'Roach', 'Roach', 'Roach', 'Roach',\n",
       "       'Roach', 'Roach', 'Roach', 'Roach', 'Roach', 'Roach', 'Whitefish',\n",
       "       'Whitefish', 'Whitefish', 'Whitefish', 'Whitefish', 'Whitefish',\n",
       "       'Parkki', 'Parkki', 'Parkki', 'Parkki', 'Parkki', 'Parkki',\n",
       "       'Parkki', 'Parkki', 'Parkki', 'Parkki', 'Parkki', 'Perch', 'Perch',\n",
       "       'Perch', 'Perch', 'Perch', 'Perch', 'Perch', 'Perch', 'Perch',\n",
       "       'Perch', 'Perch', 'Perch', 'Perch', 'Perch', 'Perch', 'Perch',\n",
       "       'Perch', 'Perch', 'Perch', 'Perch', 'Perch', 'Perch', 'Perch',\n",
       "       'Perch', 'Perch', 'Perch', 'Perch', 'Perch', 'Perch', 'Perch',\n",
       "       'Perch', 'Perch', 'Perch', 'Perch', 'Perch', 'Perch', 'Perch',\n",
       "       'Perch', 'Perch', 'Perch', 'Perch', 'Perch', 'Perch', 'Perch',\n",
       "       'Perch', 'Perch', 'Perch', 'Perch', 'Perch', 'Perch', 'Perch',\n",
       "       'Perch', 'Perch', 'Perch', 'Perch', 'Perch', 'Pike', 'Pike',\n",
       "       'Pike', 'Pike', 'Pike', 'Pike', 'Pike', 'Pike', 'Pike', 'Pike',\n",
       "       'Pike', 'Pike', 'Pike', 'Pike', 'Pike', 'Pike', 'Pike', 'Smelt',\n",
       "       'Smelt', 'Smelt', 'Smelt', 'Smelt', 'Smelt', 'Smelt', 'Smelt',\n",
       "       'Smelt', 'Smelt', 'Smelt', 'Smelt', 'Smelt', 'Smelt'], dtype=object)"
      ]
     },
     "execution_count": 8,
     "metadata": {},
     "output_type": "execute_result"
    }
   ],
   "source": [
    "fish_target = fish['Species'].to_numpy()\n",
    "fish_target"
   ]
  },
  {
   "cell_type": "code",
   "execution_count": 9,
   "metadata": {},
   "outputs": [],
   "source": [
    "from sklearn.model_selection import train_test_split\n",
    "train_input, test_input, train_target, test_target = train_test_split(fish_input, fish_target, random_state=42)"
   ]
  },
  {
   "cell_type": "code",
   "execution_count": 10,
   "metadata": {},
   "outputs": [],
   "source": [
    "from sklearn.preprocessing import StandardScaler\n",
    "ss = StandardScaler()\n",
    "ss.fit(train_input)\n",
    "train_scaled = ss.transform(train_input)\n",
    "test_scaled = ss.transform(test_input)"
   ]
  },
  {
   "cell_type": "code",
   "execution_count": 11,
   "metadata": {},
   "outputs": [],
   "source": [
    "# 불리언 인덱싱\n",
    "\n",
    "# 1) 도미(bream) 와 빙어(smelt) 골라내기 \n",
    "bream_smelt_indexes = (train_target == 'Bream')|(train_target == 'Smelt')\n",
    "# 2) 도미와 빙어 훈련데이터 True 값\n",
    "train_bream_smelt = train_scaled[bream_smelt_indexes]\n",
    "# 3) 도미와 빙어 레이블 True 값\n",
    "target_bream_smelt = train_target[bream_smelt_indexes]"
   ]
  },
  {
   "cell_type": "markdown",
   "metadata": {},
   "source": [
    "3. 로지스틱회귀분석\n",
    "\n",
    "- 1) 로지스틱회귀 학습 및 이진분류"
   ]
  },
  {
   "cell_type": "code",
   "execution_count": 12,
   "metadata": {},
   "outputs": [
    {
     "data": {
      "text/html": [
       "<style>#sk-container-id-1 {color: black;}#sk-container-id-1 pre{padding: 0;}#sk-container-id-1 div.sk-toggleable {background-color: white;}#sk-container-id-1 label.sk-toggleable__label {cursor: pointer;display: block;width: 100%;margin-bottom: 0;padding: 0.3em;box-sizing: border-box;text-align: center;}#sk-container-id-1 label.sk-toggleable__label-arrow:before {content: \"▸\";float: left;margin-right: 0.25em;color: #696969;}#sk-container-id-1 label.sk-toggleable__label-arrow:hover:before {color: black;}#sk-container-id-1 div.sk-estimator:hover label.sk-toggleable__label-arrow:before {color: black;}#sk-container-id-1 div.sk-toggleable__content {max-height: 0;max-width: 0;overflow: hidden;text-align: left;background-color: #f0f8ff;}#sk-container-id-1 div.sk-toggleable__content pre {margin: 0.2em;color: black;border-radius: 0.25em;background-color: #f0f8ff;}#sk-container-id-1 input.sk-toggleable__control:checked~div.sk-toggleable__content {max-height: 200px;max-width: 100%;overflow: auto;}#sk-container-id-1 input.sk-toggleable__control:checked~label.sk-toggleable__label-arrow:before {content: \"▾\";}#sk-container-id-1 div.sk-estimator input.sk-toggleable__control:checked~label.sk-toggleable__label {background-color: #d4ebff;}#sk-container-id-1 div.sk-label input.sk-toggleable__control:checked~label.sk-toggleable__label {background-color: #d4ebff;}#sk-container-id-1 input.sk-hidden--visually {border: 0;clip: rect(1px 1px 1px 1px);clip: rect(1px, 1px, 1px, 1px);height: 1px;margin: -1px;overflow: hidden;padding: 0;position: absolute;width: 1px;}#sk-container-id-1 div.sk-estimator {font-family: monospace;background-color: #f0f8ff;border: 1px dotted black;border-radius: 0.25em;box-sizing: border-box;margin-bottom: 0.5em;}#sk-container-id-1 div.sk-estimator:hover {background-color: #d4ebff;}#sk-container-id-1 div.sk-parallel-item::after {content: \"\";width: 100%;border-bottom: 1px solid gray;flex-grow: 1;}#sk-container-id-1 div.sk-label:hover label.sk-toggleable__label {background-color: #d4ebff;}#sk-container-id-1 div.sk-serial::before {content: \"\";position: absolute;border-left: 1px solid gray;box-sizing: border-box;top: 0;bottom: 0;left: 50%;z-index: 0;}#sk-container-id-1 div.sk-serial {display: flex;flex-direction: column;align-items: center;background-color: white;padding-right: 0.2em;padding-left: 0.2em;position: relative;}#sk-container-id-1 div.sk-item {position: relative;z-index: 1;}#sk-container-id-1 div.sk-parallel {display: flex;align-items: stretch;justify-content: center;background-color: white;position: relative;}#sk-container-id-1 div.sk-item::before, #sk-container-id-1 div.sk-parallel-item::before {content: \"\";position: absolute;border-left: 1px solid gray;box-sizing: border-box;top: 0;bottom: 0;left: 50%;z-index: -1;}#sk-container-id-1 div.sk-parallel-item {display: flex;flex-direction: column;z-index: 1;position: relative;background-color: white;}#sk-container-id-1 div.sk-parallel-item:first-child::after {align-self: flex-end;width: 50%;}#sk-container-id-1 div.sk-parallel-item:last-child::after {align-self: flex-start;width: 50%;}#sk-container-id-1 div.sk-parallel-item:only-child::after {width: 0;}#sk-container-id-1 div.sk-dashed-wrapped {border: 1px dashed gray;margin: 0 0.4em 0.5em 0.4em;box-sizing: border-box;padding-bottom: 0.4em;background-color: white;}#sk-container-id-1 div.sk-label label {font-family: monospace;font-weight: bold;display: inline-block;line-height: 1.2em;}#sk-container-id-1 div.sk-label-container {text-align: center;}#sk-container-id-1 div.sk-container {/* jupyter's `normalize.less` sets `[hidden] { display: none; }` but bootstrap.min.css set `[hidden] { display: none !important; }` so we also need the `!important` here to be able to override the default hidden behavior on the sphinx rendered scikit-learn.org. See: https://github.com/scikit-learn/scikit-learn/issues/21755 */display: inline-block !important;position: relative;}#sk-container-id-1 div.sk-text-repr-fallback {display: none;}</style><div id=\"sk-container-id-1\" class=\"sk-top-container\"><div class=\"sk-text-repr-fallback\"><pre>LogisticRegression()</pre><b>In a Jupyter environment, please rerun this cell to show the HTML representation or trust the notebook. <br />On GitHub, the HTML representation is unable to render, please try loading this page with nbviewer.org.</b></div><div class=\"sk-container\" hidden><div class=\"sk-item\"><div class=\"sk-estimator sk-toggleable\"><input class=\"sk-toggleable__control sk-hidden--visually\" id=\"sk-estimator-id-1\" type=\"checkbox\" checked><label for=\"sk-estimator-id-1\" class=\"sk-toggleable__label sk-toggleable__label-arrow\">LogisticRegression</label><div class=\"sk-toggleable__content\"><pre>LogisticRegression()</pre></div></div></div></div></div>"
      ],
      "text/plain": [
       "LogisticRegression()"
      ]
     },
     "execution_count": 12,
     "metadata": {},
     "output_type": "execute_result"
    }
   ],
   "source": [
    "from sklearn.linear_model import LogisticRegression\n",
    "\n",
    "# 로지스틱회귀분석 객체 생성\n",
    "lr = LogisticRegression()\n",
    "\n",
    "# 훈련시키기\n",
    "lr.fit(train_bream_smelt, target_bream_smelt)"
   ]
  },
  {
   "cell_type": "code",
   "execution_count": 13,
   "metadata": {},
   "outputs": [
    {
     "name": "stdout",
     "output_type": "stream",
     "text": [
      "['Bream' 'Smelt' 'Bream' 'Bream' 'Bream']\n"
     ]
    }
   ],
   "source": [
    "# 예측\n",
    "print(lr.predict(train_bream_smelt[:5]))"
   ]
  },
  {
   "cell_type": "code",
   "execution_count": 14,
   "metadata": {},
   "outputs": [
    {
     "name": "stdout",
     "output_type": "stream",
     "text": [
      "[[0.997599 0.002401]\n",
      " [0.027352 0.972648]\n",
      " [0.994861 0.005139]\n",
      " [0.985842 0.014158]\n",
      " [0.997673 0.002327]]\n"
     ]
    }
   ],
   "source": [
    "# 예측확률\n",
    "print(lr.predict_proba(train_bream_smelt[:5]))"
   ]
  },
  {
   "cell_type": "markdown",
   "metadata": {},
   "source": [
    "> 음 , 양, 음, 음, 음"
   ]
  },
  {
   "cell_type": "markdown",
   "metadata": {},
   "source": [
    "> 첫번째 열이 음성클래스(0)에 대한 확률, 두번째 열이 양성클래스(1)에 대한 확률\n",
    "\n",
    "> Bream과 Smelt 중 어떤 것이 양성클래스인가? = classes_속성 확인해보기 (사이킷런은 타킷값을 알파벳순으로 정렬)"
   ]
  },
  {
   "cell_type": "code",
   "execution_count": 15,
   "metadata": {},
   "outputs": [
    {
     "name": "stdout",
     "output_type": "stream",
     "text": [
      "['Bream' 'Smelt']\n"
     ]
    }
   ],
   "source": [
    "print(lr.classes_)"
   ]
  },
  {
   "cell_type": "markdown",
   "metadata": {},
   "source": [
    "> 음성클래스는 'Bream', 양성클래스는 'Smelt'\n",
    "\n",
    "> 만약 도미(Bream)을 양성클래스로 사용하려면, Bream 값을 1로 만들고 Smelt값을 0으로 만들면 된다"
   ]
  },
  {
   "cell_type": "markdown",
   "metadata": {},
   "source": [
    "- 2. 회귀계수 확인해보기"
   ]
  },
  {
   "cell_type": "code",
   "execution_count": 16,
   "metadata": {},
   "outputs": [
    {
     "name": "stdout",
     "output_type": "stream",
     "text": [
      "[[-0.40378  -0.576202 -0.662803 -1.012903 -0.731689]] [-2.161551]\n"
     ]
    }
   ],
   "source": [
    "print(lr.coef_, lr.intercept_)"
   ]
  },
  {
   "cell_type": "markdown",
   "metadata": {},
   "source": [
    "> $z = -0.40378 * (Weight) -0.576202 * (Length)\t-0.662803 * (Diagonal) -1.012903 * (Height) -0.731689 * (Width) -2.161551 $"
   ]
  },
  {
   "cell_type": "markdown",
   "metadata": {},
   "source": [
    "- 3. 결과값(z) 확인해보기"
   ]
  },
  {
   "cell_type": "code",
   "execution_count": 17,
   "metadata": {},
   "outputs": [
    {
     "name": "stdout",
     "output_type": "stream",
     "text": [
      "[-6.029277  3.571239 -5.265689 -4.243218 -6.060712]\n"
     ]
    }
   ],
   "source": [
    "# LogisticRegression 클래스는 decision_function() 메서드로 z값 출력 가능\n",
    "decisions = lr.decision_function(train_bream_smelt[:5])\n",
    "print(decisions)"
   ]
  },
  {
   "cell_type": "markdown",
   "metadata": {},
   "source": [
    "> 해석 : 음성클래스, 양성클래스, 음성클래스, 음성클래스, 음성클래스"
   ]
  },
  {
   "cell_type": "code",
   "execution_count": 18,
   "metadata": {},
   "outputs": [
    {
     "name": "stdout",
     "output_type": "stream",
     "text": [
      "[0.002401 0.972648 0.005139 0.014158 0.002327]\n"
     ]
    }
   ],
   "source": [
    "# scipy를 이용하여 시그모이드 함수 계산할 수 있다.\n",
    "from scipy.special import expit\n",
    "print(expit(decisions))"
   ]
  },
  {
   "cell_type": "markdown",
   "metadata": {},
   "source": [
    "> 해석 : 양성클래스, 양성클래스, 양성클래스, 양성클래스, 양성클래스"
   ]
  },
  {
   "cell_type": "markdown",
   "metadata": {},
   "source": [
    "***********"
   ]
  },
  {
   "cell_type": "markdown",
   "metadata": {},
   "source": [
    "# 로지스틱회귀(다중분류)\n",
    " LogisticRegression은 제곱을 규제(L2규제) <-> Ridge함수(L1규제)\n",
    "\n",
    " ### 소프트맥스 함수\n",
    "- 여러개의 선형 방정식의 출력값을 0~1 사이로 압축하고 전체 합이 1이 되도록 (지수함수 사용하기 때문에 정규화된 지수함수라고도 한다.)\n"
   ]
  },
  {
   "cell_type": "markdown",
   "metadata": {},
   "source": [
    "1. 로지스틱회귀 객체 만들기 및 분석"
   ]
  },
  {
   "cell_type": "code",
   "execution_count": 19,
   "metadata": {},
   "outputs": [
    {
     "name": "stdout",
     "output_type": "stream",
     "text": [
      "0.9327731092436975\n",
      "0.925\n"
     ]
    }
   ],
   "source": [
    "# C는 매개변수 : 기본값1, 작을수록 규제가 커진다 (<-> alpha 매개변수 : 클수록 규제가 커진다.)\n",
    "# max_iter 반복횟수\n",
    "\n",
    "# 객체\n",
    "lr = LogisticRegression(C=20, max_iter=1000)\n",
    "\n",
    "# 훈련\n",
    "lr.fit(train_scaled, train_target)\n",
    "\n",
    "print(lr.score(train_scaled, train_target))\n",
    "print(lr.score(test_scaled, test_target))"
   ]
  },
  {
   "cell_type": "markdown",
   "metadata": {},
   "source": [
    "> 훈련과 검증데이터간 차이가 크지 않은 것으로 보아 과대적합,과소적합 X"
   ]
  },
  {
   "cell_type": "markdown",
   "metadata": {},
   "source": [
    "2. 검증 데이터 예측값 생성"
   ]
  },
  {
   "cell_type": "code",
   "execution_count": 20,
   "metadata": {},
   "outputs": [
    {
     "name": "stdout",
     "output_type": "stream",
     "text": [
      "['Perch' 'Smelt' 'Pike' 'Roach' 'Perch']\n"
     ]
    }
   ],
   "source": [
    "print(lr.predict(test_scaled[:5]))"
   ]
  },
  {
   "cell_type": "code",
   "execution_count": 22,
   "metadata": {},
   "outputs": [
    {
     "name": "stdout",
     "output_type": "stream",
     "text": [
      "['Bream' 'Parkki' 'Perch' 'Pike' 'Roach' 'Smelt' 'Whitefish']\n"
     ]
    }
   ],
   "source": [
    "print(lr.classes_)"
   ]
  },
  {
   "cell_type": "code",
   "execution_count": 21,
   "metadata": {},
   "outputs": [
    {
     "name": "stdout",
     "output_type": "stream",
     "text": [
      "[[0.    0.014 0.841 0.    0.136 0.007 0.003]\n",
      " [0.    0.003 0.044 0.    0.007 0.946 0.   ]\n",
      " [0.    0.    0.034 0.935 0.015 0.016 0.   ]\n",
      " [0.011 0.034 0.306 0.007 0.567 0.    0.076]\n",
      " [0.    0.    0.904 0.002 0.089 0.002 0.001]]\n"
     ]
    }
   ],
   "source": [
    "proba = lr.predict_proba(test_scaled[:5])\n",
    "print(np.round(proba, decimals=3)) # 소수점 3자리까지"
   ]
  },
  {
   "cell_type": "markdown",
   "metadata": {},
   "source": [
    "> 첫번째 샘플은 84%로 Perch 예측"
   ]
  },
  {
   "cell_type": "markdown",
   "metadata": {},
   "source": [
    "3. 회귀식"
   ]
  },
  {
   "cell_type": "code",
   "execution_count": 23,
   "metadata": {},
   "outputs": [
    {
     "name": "stdout",
     "output_type": "stream",
     "text": [
      "(7, 5) (7,)\n"
     ]
    }
   ],
   "source": [
    "print(lr.coef_.shape, lr.intercept_.shape)"
   ]
  },
  {
   "cell_type": "markdown",
   "metadata": {},
   "source": [
    "4. 소프트맥스 함수 이해하기\n",
    "\n",
    "- $z1~z7$ 까지 값 생성"
   ]
  },
  {
   "cell_type": "code",
   "execution_count": 24,
   "metadata": {},
   "outputs": [
    {
     "name": "stdout",
     "output_type": "stream",
     "text": [
      "[[ -6.5    1.03   5.16  -2.73   3.34   0.33  -0.63]\n",
      " [-10.86   1.93   4.77  -2.4    2.98   7.84  -4.26]\n",
      " [ -4.34  -6.23   3.17   6.49   2.36   2.42  -3.87]\n",
      " [ -0.68   0.45   2.65  -1.19   3.26  -5.75   1.26]\n",
      " [ -6.4   -1.99   5.82  -0.11   3.5   -0.11  -0.71]]\n"
     ]
    }
   ],
   "source": [
    "# decision_Funtion을 이용해 Z1~Z7 값 구하기\n",
    "decision = lr.decision_function(test_scaled[:5])\n",
    "print(np.round(decision, 2))"
   ]
  },
  {
   "cell_type": "markdown",
   "metadata": {},
   "source": [
    "- 지수로 표현하기 $e^z1 ~ e^z7$ => $esum = 1$\n",
    "\n",
    "- s1= e^z1/esum ... "
   ]
  },
  {
   "cell_type": "markdown",
   "metadata": {},
   "source": [
    "5. scipy를 이용하여 소프트맥스함수 이해하기"
   ]
  },
  {
   "cell_type": "code",
   "execution_count": 25,
   "metadata": {},
   "outputs": [
    {
     "name": "stdout",
     "output_type": "stream",
     "text": [
      "[[0.    0.014 0.841 0.    0.136 0.007 0.003]\n",
      " [0.    0.003 0.044 0.    0.007 0.946 0.   ]\n",
      " [0.    0.    0.034 0.935 0.015 0.016 0.   ]\n",
      " [0.011 0.034 0.306 0.007 0.567 0.    0.076]\n",
      " [0.    0.    0.904 0.002 0.089 0.002 0.001]]\n"
     ]
    }
   ],
   "source": [
    "from scipy.special import softmax\n",
    "proba = softmax(decision, axis=1) #axis = 소프트맥스로 계산할 축 지정하기\n",
    "print(np.round(proba, 3))"
   ]
  },
  {
   "cell_type": "markdown",
   "metadata": {},
   "source": [
    "> 앞서 구한 proba 배열과 일치 = 로지스틱 회귀 모델 성공적."
   ]
  },
  {
   "cell_type": "markdown",
   "metadata": {},
   "source": [
    "**********"
   ]
  },
  {
   "cell_type": "markdown",
   "metadata": {},
   "source": [
    "# 로지스틱회귀"
   ]
  },
  {
   "cell_type": "code",
   "execution_count": 29,
   "metadata": {},
   "outputs": [
    {
     "data": {
      "text/html": [
       "<div>\n",
       "<style scoped>\n",
       "    .dataframe tbody tr th:only-of-type {\n",
       "        vertical-align: middle;\n",
       "    }\n",
       "\n",
       "    .dataframe tbody tr th {\n",
       "        vertical-align: top;\n",
       "    }\n",
       "\n",
       "    .dataframe thead th {\n",
       "        text-align: right;\n",
       "    }\n",
       "</style>\n",
       "<table border=\"1\" class=\"dataframe\">\n",
       "  <thead>\n",
       "    <tr style=\"text-align: right;\">\n",
       "      <th></th>\n",
       "      <th>Species</th>\n",
       "      <th>Weight</th>\n",
       "      <th>Length</th>\n",
       "      <th>Diagonal</th>\n",
       "      <th>Height</th>\n",
       "      <th>Width</th>\n",
       "    </tr>\n",
       "  </thead>\n",
       "  <tbody>\n",
       "    <tr>\n",
       "      <th>0</th>\n",
       "      <td>Bream</td>\n",
       "      <td>242.0</td>\n",
       "      <td>25.4</td>\n",
       "      <td>30.0</td>\n",
       "      <td>11.5200</td>\n",
       "      <td>4.0200</td>\n",
       "    </tr>\n",
       "    <tr>\n",
       "      <th>1</th>\n",
       "      <td>Bream</td>\n",
       "      <td>290.0</td>\n",
       "      <td>26.3</td>\n",
       "      <td>31.2</td>\n",
       "      <td>12.4800</td>\n",
       "      <td>4.3056</td>\n",
       "    </tr>\n",
       "    <tr>\n",
       "      <th>2</th>\n",
       "      <td>Bream</td>\n",
       "      <td>340.0</td>\n",
       "      <td>26.5</td>\n",
       "      <td>31.1</td>\n",
       "      <td>12.3778</td>\n",
       "      <td>4.6961</td>\n",
       "    </tr>\n",
       "    <tr>\n",
       "      <th>3</th>\n",
       "      <td>Bream</td>\n",
       "      <td>363.0</td>\n",
       "      <td>29.0</td>\n",
       "      <td>33.5</td>\n",
       "      <td>12.7300</td>\n",
       "      <td>4.4555</td>\n",
       "    </tr>\n",
       "    <tr>\n",
       "      <th>4</th>\n",
       "      <td>Bream</td>\n",
       "      <td>430.0</td>\n",
       "      <td>29.0</td>\n",
       "      <td>34.0</td>\n",
       "      <td>12.4440</td>\n",
       "      <td>5.1340</td>\n",
       "    </tr>\n",
       "  </tbody>\n",
       "</table>\n",
       "</div>"
      ],
      "text/plain": [
       "  Species  Weight  Length  Diagonal   Height   Width\n",
       "0   Bream   242.0    25.4      30.0  11.5200  4.0200\n",
       "1   Bream   290.0    26.3      31.2  12.4800  4.3056\n",
       "2   Bream   340.0    26.5      31.1  12.3778  4.6961\n",
       "3   Bream   363.0    29.0      33.5  12.7300  4.4555\n",
       "4   Bream   430.0    29.0      34.0  12.4440  5.1340"
      ]
     },
     "execution_count": 29,
     "metadata": {},
     "output_type": "execute_result"
    }
   ],
   "source": [
    "# 로지스틱 회귀\n",
    "\n",
    "## 럭키백의 확률\n",
    "\n",
    "### 데이터 준비하기\n",
    "\n",
    "import pandas as pd\n",
    "import numpy as np\n",
    "np.set_printoptions(precision=6, suppress=True)\n",
    "\n",
    "fish = pd.read_csv('https://bit.ly/fish_csv_data')\n",
    "fish.head()"
   ]
  },
  {
   "cell_type": "code",
   "execution_count": 30,
   "metadata": {},
   "outputs": [
    {
     "name": "stdout",
     "output_type": "stream",
     "text": [
      "['Bream' 'Roach' 'Whitefish' 'Parkki' 'Perch' 'Pike' 'Smelt']\n"
     ]
    }
   ],
   "source": [
    "print(pd.unique(fish['Species']))"
   ]
  },
  {
   "cell_type": "code",
   "execution_count": 32,
   "metadata": {},
   "outputs": [
    {
     "data": {
      "text/plain": [
       "array([[ 242.    ,   25.4   ,   30.    ,   11.52  ,    4.02  ],\n",
       "       [ 290.    ,   26.3   ,   31.2   ,   12.48  ,    4.3056],\n",
       "       [ 340.    ,   26.5   ,   31.1   ,   12.3778,    4.6961],\n",
       "       [ 363.    ,   29.    ,   33.5   ,   12.73  ,    4.4555],\n",
       "       [ 430.    ,   29.    ,   34.    ,   12.444 ,    5.134 ],\n",
       "       [ 450.    ,   29.7   ,   34.7   ,   13.6024,    4.9274],\n",
       "       [ 500.    ,   29.7   ,   34.5   ,   14.1795,    5.2785],\n",
       "       [ 390.    ,   30.    ,   35.    ,   12.67  ,    4.69  ],\n",
       "       [ 450.    ,   30.    ,   35.1   ,   14.0049,    4.8438],\n",
       "       [ 500.    ,   30.7   ,   36.2   ,   14.2266,    4.9594],\n",
       "       [ 475.    ,   31.    ,   36.2   ,   14.2628,    5.1042],\n",
       "       [ 500.    ,   31.    ,   36.2   ,   14.3714,    4.8146],\n",
       "       [ 500.    ,   31.5   ,   36.4   ,   13.7592,    4.368 ],\n",
       "       [ 340.    ,   32.    ,   37.3   ,   13.9129,    5.0728],\n",
       "       [ 600.    ,   32.    ,   37.2   ,   14.9544,    5.1708],\n",
       "       [ 600.    ,   32.    ,   37.2   ,   15.438 ,    5.58  ],\n",
       "       [ 700.    ,   33.    ,   38.3   ,   14.8604,    5.2854],\n",
       "       [ 700.    ,   33.    ,   38.5   ,   14.938 ,    5.1975],\n",
       "       [ 610.    ,   33.5   ,   38.6   ,   15.633 ,    5.1338],\n",
       "       [ 650.    ,   33.5   ,   38.7   ,   14.4738,    5.7276],\n",
       "       [ 575.    ,   34.    ,   39.5   ,   15.1285,    5.5695],\n",
       "       [ 685.    ,   34.    ,   39.2   ,   15.9936,    5.3704],\n",
       "       [ 620.    ,   34.5   ,   39.7   ,   15.5227,    5.2801],\n",
       "       [ 680.    ,   35.    ,   40.6   ,   15.4686,    6.1306],\n",
       "       [ 700.    ,   35.    ,   40.5   ,   16.2405,    5.589 ],\n",
       "       [ 725.    ,   35.    ,   40.9   ,   16.36  ,    6.0532],\n",
       "       [ 720.    ,   35.    ,   40.6   ,   16.3618,    6.09  ],\n",
       "       [ 714.    ,   36.    ,   41.5   ,   16.517 ,    5.8515],\n",
       "       [ 850.    ,   36.    ,   41.6   ,   16.8896,    6.1984],\n",
       "       [1000.    ,   37.    ,   42.6   ,   18.957 ,    6.603 ],\n",
       "       [ 920.    ,   38.5   ,   44.1   ,   18.0369,    6.3063],\n",
       "       [ 955.    ,   38.5   ,   44.    ,   18.084 ,    6.292 ],\n",
       "       [ 925.    ,   39.5   ,   45.3   ,   18.7542,    6.7497],\n",
       "       [ 975.    ,   41.    ,   45.9   ,   18.6354,    6.7473],\n",
       "       [ 950.    ,   41.    ,   46.5   ,   17.6235,    6.3705],\n",
       "       [  40.    ,   14.1   ,   16.2   ,    4.1472,    2.268 ],\n",
       "       [  69.    ,   18.2   ,   20.3   ,    5.2983,    2.8217],\n",
       "       [  78.    ,   18.8   ,   21.2   ,    5.5756,    2.9044],\n",
       "       [  87.    ,   19.8   ,   22.2   ,    5.6166,    3.1746],\n",
       "       [ 120.    ,   20.    ,   22.2   ,    6.216 ,    3.5742],\n",
       "       [   0.    ,   20.5   ,   22.8   ,    6.4752,    3.3516],\n",
       "       [ 110.    ,   20.8   ,   23.1   ,    6.1677,    3.3957],\n",
       "       [ 120.    ,   21.    ,   23.7   ,    6.1146,    3.2943],\n",
       "       [ 150.    ,   22.    ,   24.7   ,    5.8045,    3.7544],\n",
       "       [ 145.    ,   22.    ,   24.3   ,    6.6339,    3.5478],\n",
       "       [ 160.    ,   22.5   ,   25.3   ,    7.0334,    3.8203],\n",
       "       [ 140.    ,   22.5   ,   25.    ,    6.55  ,    3.325 ],\n",
       "       [ 160.    ,   22.5   ,   25.    ,    6.4   ,    3.8   ],\n",
       "       [ 169.    ,   24.    ,   27.2   ,    7.5344,    3.8352],\n",
       "       [ 161.    ,   23.4   ,   26.7   ,    6.9153,    3.6312],\n",
       "       [ 200.    ,   23.5   ,   26.8   ,    7.3968,    4.1272],\n",
       "       [ 180.    ,   25.2   ,   27.9   ,    7.0866,    3.906 ],\n",
       "       [ 290.    ,   26.    ,   29.2   ,    8.8768,    4.4968],\n",
       "       [ 272.    ,   27.    ,   30.6   ,    8.568 ,    4.7736],\n",
       "       [ 390.    ,   31.7   ,   35.    ,    9.485 ,    5.355 ],\n",
       "       [ 270.    ,   26.    ,   28.7   ,    8.3804,    4.2476],\n",
       "       [ 270.    ,   26.5   ,   29.3   ,    8.1454,    4.2485],\n",
       "       [ 306.    ,   28.    ,   30.8   ,    8.778 ,    4.6816],\n",
       "       [ 540.    ,   31.    ,   34.    ,   10.744 ,    6.562 ],\n",
       "       [ 800.    ,   36.4   ,   39.6   ,   11.7612,    6.5736],\n",
       "       [1000.    ,   40.    ,   43.5   ,   12.354 ,    6.525 ],\n",
       "       [  55.    ,   14.7   ,   16.5   ,    6.8475,    2.3265],\n",
       "       [  60.    ,   15.5   ,   17.4   ,    6.5772,    2.3142],\n",
       "       [  90.    ,   17.7   ,   19.8   ,    7.4052,    2.673 ],\n",
       "       [ 120.    ,   19.    ,   21.3   ,    8.3922,    2.9181],\n",
       "       [ 150.    ,   20.    ,   22.4   ,    8.8928,    3.2928],\n",
       "       [ 140.    ,   20.7   ,   23.2   ,    8.5376,    3.2944],\n",
       "       [ 170.    ,   20.7   ,   23.2   ,    9.396 ,    3.4104],\n",
       "       [ 145.    ,   21.5   ,   24.1   ,    9.7364,    3.1571],\n",
       "       [ 200.    ,   23.    ,   25.8   ,   10.3458,    3.6636],\n",
       "       [ 273.    ,   25.    ,   28.    ,   11.088 ,    4.144 ],\n",
       "       [ 300.    ,   26.    ,   29.    ,   11.368 ,    4.234 ],\n",
       "       [   5.9   ,    8.4   ,    8.8   ,    2.112 ,    1.408 ],\n",
       "       [  32.    ,   13.7   ,   14.7   ,    3.528 ,    1.9992],\n",
       "       [  40.    ,   15.    ,   16.    ,    3.824 ,    2.432 ],\n",
       "       [  51.5   ,   16.2   ,   17.2   ,    4.5924,    2.6316],\n",
       "       [  70.    ,   17.4   ,   18.5   ,    4.588 ,    2.9415],\n",
       "       [ 100.    ,   18.    ,   19.2   ,    5.2224,    3.3216],\n",
       "       [  78.    ,   18.7   ,   19.4   ,    5.1992,    3.1234],\n",
       "       [  80.    ,   19.    ,   20.2   ,    5.6358,    3.0502],\n",
       "       [  85.    ,   19.6   ,   20.8   ,    5.1376,    3.0368],\n",
       "       [  85.    ,   20.    ,   21.    ,    5.082 ,    2.772 ],\n",
       "       [ 110.    ,   21.    ,   22.5   ,    5.6925,    3.555 ],\n",
       "       [ 115.    ,   21.    ,   22.5   ,    5.9175,    3.3075],\n",
       "       [ 125.    ,   21.    ,   22.5   ,    5.6925,    3.6675],\n",
       "       [ 130.    ,   21.3   ,   22.8   ,    6.384 ,    3.534 ],\n",
       "       [ 120.    ,   22.    ,   23.5   ,    6.11  ,    3.4075],\n",
       "       [ 120.    ,   22.    ,   23.5   ,    5.64  ,    3.525 ],\n",
       "       [ 130.    ,   22.    ,   23.5   ,    6.11  ,    3.525 ],\n",
       "       [ 135.    ,   22.    ,   23.5   ,    5.875 ,    3.525 ],\n",
       "       [ 110.    ,   22.    ,   23.5   ,    5.5225,    3.995 ],\n",
       "       [ 130.    ,   22.5   ,   24.    ,    5.856 ,    3.624 ],\n",
       "       [ 150.    ,   22.5   ,   24.    ,    6.792 ,    3.624 ],\n",
       "       [ 145.    ,   22.7   ,   24.2   ,    5.9532,    3.63  ],\n",
       "       [ 150.    ,   23.    ,   24.5   ,    5.2185,    3.626 ],\n",
       "       [ 170.    ,   23.5   ,   25.    ,    6.275 ,    3.725 ],\n",
       "       [ 225.    ,   24.    ,   25.5   ,    7.293 ,    3.723 ],\n",
       "       [ 145.    ,   24.    ,   25.5   ,    6.375 ,    3.825 ],\n",
       "       [ 188.    ,   24.6   ,   26.2   ,    6.7334,    4.1658],\n",
       "       [ 180.    ,   25.    ,   26.5   ,    6.4395,    3.6835],\n",
       "       [ 197.    ,   25.6   ,   27.    ,    6.561 ,    4.239 ],\n",
       "       [ 218.    ,   26.5   ,   28.    ,    7.168 ,    4.144 ],\n",
       "       [ 300.    ,   27.3   ,   28.7   ,    8.323 ,    5.1373],\n",
       "       [ 260.    ,   27.5   ,   28.9   ,    7.1672,    4.335 ],\n",
       "       [ 265.    ,   27.5   ,   28.9   ,    7.0516,    4.335 ],\n",
       "       [ 250.    ,   27.5   ,   28.9   ,    7.2828,    4.5662],\n",
       "       [ 250.    ,   28.    ,   29.4   ,    7.8204,    4.2042],\n",
       "       [ 300.    ,   28.7   ,   30.1   ,    7.5852,    4.6354],\n",
       "       [ 320.    ,   30.    ,   31.6   ,    7.6156,    4.7716],\n",
       "       [ 514.    ,   32.8   ,   34.    ,   10.03  ,    6.018 ],\n",
       "       [ 556.    ,   34.5   ,   36.5   ,   10.2565,    6.3875],\n",
       "       [ 840.    ,   35.    ,   37.3   ,   11.4884,    7.7957],\n",
       "       [ 685.    ,   36.5   ,   39.    ,   10.881 ,    6.864 ],\n",
       "       [ 700.    ,   36.    ,   38.3   ,   10.6091,    6.7408],\n",
       "       [ 700.    ,   37.    ,   39.4   ,   10.835 ,    6.2646],\n",
       "       [ 690.    ,   37.    ,   39.3   ,   10.5717,    6.3666],\n",
       "       [ 900.    ,   39.    ,   41.4   ,   11.1366,    7.4934],\n",
       "       [ 650.    ,   39.    ,   41.4   ,   11.1366,    6.003 ],\n",
       "       [ 820.    ,   39.    ,   41.3   ,   12.4313,    7.3514],\n",
       "       [ 850.    ,   40.    ,   42.3   ,   11.9286,    7.1064],\n",
       "       [ 900.    ,   40.    ,   42.5   ,   11.73  ,    7.225 ],\n",
       "       [1015.    ,   40.    ,   42.4   ,   12.3808,    7.4624],\n",
       "       [ 820.    ,   40.    ,   42.5   ,   11.135 ,    6.63  ],\n",
       "       [1100.    ,   42.    ,   44.6   ,   12.8002,    6.8684],\n",
       "       [1000.    ,   43.    ,   45.2   ,   11.9328,    7.2772],\n",
       "       [1100.    ,   43.    ,   45.5   ,   12.5125,    7.4165],\n",
       "       [1000.    ,   43.5   ,   46.    ,   12.604 ,    8.142 ],\n",
       "       [1000.    ,   44.    ,   46.6   ,   12.4888,    7.5958],\n",
       "       [ 200.    ,   32.3   ,   34.8   ,    5.568 ,    3.3756],\n",
       "       [ 300.    ,   34.    ,   37.8   ,    5.7078,    4.158 ],\n",
       "       [ 300.    ,   35.    ,   38.8   ,    5.9364,    4.3844],\n",
       "       [ 300.    ,   37.3   ,   39.8   ,    6.2884,    4.0198],\n",
       "       [ 430.    ,   38.    ,   40.5   ,    7.29  ,    4.5765],\n",
       "       [ 345.    ,   38.5   ,   41.    ,    6.396 ,    3.977 ],\n",
       "       [ 456.    ,   42.5   ,   45.5   ,    7.28  ,    4.3225],\n",
       "       [ 510.    ,   42.5   ,   45.5   ,    6.825 ,    4.459 ],\n",
       "       [ 540.    ,   43.    ,   45.8   ,    7.786 ,    5.1296],\n",
       "       [ 500.    ,   45.    ,   48.    ,    6.96  ,    4.896 ],\n",
       "       [ 567.    ,   46.    ,   48.7   ,    7.792 ,    4.87  ],\n",
       "       [ 770.    ,   48.    ,   51.2   ,    7.68  ,    5.376 ],\n",
       "       [ 950.    ,   51.7   ,   55.1   ,    8.9262,    6.1712],\n",
       "       [1250.    ,   56.    ,   59.7   ,   10.6863,    6.9849],\n",
       "       [1600.    ,   60.    ,   64.    ,    9.6   ,    6.144 ],\n",
       "       [1550.    ,   60.    ,   64.    ,    9.6   ,    6.144 ],\n",
       "       [1650.    ,   63.4   ,   68.    ,   10.812 ,    7.48  ],\n",
       "       [   6.7   ,    9.8   ,   10.8   ,    1.7388,    1.0476],\n",
       "       [   7.5   ,   10.5   ,   11.6   ,    1.972 ,    1.16  ],\n",
       "       [   7.    ,   10.6   ,   11.6   ,    1.7284,    1.1484],\n",
       "       [   9.7   ,   11.    ,   12.    ,    2.196 ,    1.38  ],\n",
       "       [   9.8   ,   11.2   ,   12.4   ,    2.0832,    1.2772],\n",
       "       [   8.7   ,   11.3   ,   12.6   ,    1.9782,    1.2852],\n",
       "       [  10.    ,   11.8   ,   13.1   ,    2.2139,    1.2838],\n",
       "       [   9.9   ,   11.8   ,   13.1   ,    2.2139,    1.1659],\n",
       "       [   9.8   ,   12.    ,   13.2   ,    2.2044,    1.1484],\n",
       "       [  12.2   ,   12.2   ,   13.4   ,    2.0904,    1.3936],\n",
       "       [  13.4   ,   12.4   ,   13.5   ,    2.43  ,    1.269 ],\n",
       "       [  12.2   ,   13.    ,   13.8   ,    2.277 ,    1.2558],\n",
       "       [  19.7   ,   14.3   ,   15.2   ,    2.8728,    2.0672],\n",
       "       [  19.9   ,   15.    ,   16.2   ,    2.9322,    1.8792]])"
      ]
     },
     "execution_count": 32,
     "metadata": {},
     "output_type": "execute_result"
    }
   ],
   "source": [
    "fish_input = fish[['Weight', 'Length', 'Diagonal', 'Height', 'Width']].to_numpy()\n",
    "fish_input"
   ]
  },
  {
   "cell_type": "code",
   "execution_count": 33,
   "metadata": {},
   "outputs": [
    {
     "data": {
      "text/plain": [
       "array(['Bream', 'Bream', 'Bream', 'Bream', 'Bream', 'Bream', 'Bream',\n",
       "       'Bream', 'Bream', 'Bream', 'Bream', 'Bream', 'Bream', 'Bream',\n",
       "       'Bream', 'Bream', 'Bream', 'Bream', 'Bream', 'Bream', 'Bream',\n",
       "       'Bream', 'Bream', 'Bream', 'Bream', 'Bream', 'Bream', 'Bream',\n",
       "       'Bream', 'Bream', 'Bream', 'Bream', 'Bream', 'Bream', 'Bream',\n",
       "       'Roach', 'Roach', 'Roach', 'Roach', 'Roach', 'Roach', 'Roach',\n",
       "       'Roach', 'Roach', 'Roach', 'Roach', 'Roach', 'Roach', 'Roach',\n",
       "       'Roach', 'Roach', 'Roach', 'Roach', 'Roach', 'Roach', 'Whitefish',\n",
       "       'Whitefish', 'Whitefish', 'Whitefish', 'Whitefish', 'Whitefish',\n",
       "       'Parkki', 'Parkki', 'Parkki', 'Parkki', 'Parkki', 'Parkki',\n",
       "       'Parkki', 'Parkki', 'Parkki', 'Parkki', 'Parkki', 'Perch', 'Perch',\n",
       "       'Perch', 'Perch', 'Perch', 'Perch', 'Perch', 'Perch', 'Perch',\n",
       "       'Perch', 'Perch', 'Perch', 'Perch', 'Perch', 'Perch', 'Perch',\n",
       "       'Perch', 'Perch', 'Perch', 'Perch', 'Perch', 'Perch', 'Perch',\n",
       "       'Perch', 'Perch', 'Perch', 'Perch', 'Perch', 'Perch', 'Perch',\n",
       "       'Perch', 'Perch', 'Perch', 'Perch', 'Perch', 'Perch', 'Perch',\n",
       "       'Perch', 'Perch', 'Perch', 'Perch', 'Perch', 'Perch', 'Perch',\n",
       "       'Perch', 'Perch', 'Perch', 'Perch', 'Perch', 'Perch', 'Perch',\n",
       "       'Perch', 'Perch', 'Perch', 'Perch', 'Perch', 'Pike', 'Pike',\n",
       "       'Pike', 'Pike', 'Pike', 'Pike', 'Pike', 'Pike', 'Pike', 'Pike',\n",
       "       'Pike', 'Pike', 'Pike', 'Pike', 'Pike', 'Pike', 'Pike', 'Smelt',\n",
       "       'Smelt', 'Smelt', 'Smelt', 'Smelt', 'Smelt', 'Smelt', 'Smelt',\n",
       "       'Smelt', 'Smelt', 'Smelt', 'Smelt', 'Smelt', 'Smelt'], dtype=object)"
      ]
     },
     "execution_count": 33,
     "metadata": {},
     "output_type": "execute_result"
    }
   ],
   "source": [
    "fish_target = fish['Species'].to_numpy()\n",
    "fish_target"
   ]
  },
  {
   "cell_type": "code",
   "execution_count": 34,
   "metadata": {},
   "outputs": [],
   "source": [
    "from sklearn.model_selection import train_test_split\n",
    "train_input, test_input, train_target, test_target = train_test_split(fish_input, fish_target, random_state=42)"
   ]
  },
  {
   "cell_type": "code",
   "execution_count": 35,
   "metadata": {},
   "outputs": [],
   "source": [
    "from sklearn.preprocessing import StandardScaler\n",
    "ss = StandardScaler()\n",
    "ss.fit(train_input)\n",
    "train_scaled = ss.transform(train_input)\n",
    "test_scaled = ss.transform(test_input)"
   ]
  },
  {
   "cell_type": "markdown",
   "metadata": {},
   "source": [
    "### 이진분류"
   ]
  },
  {
   "cell_type": "code",
   "execution_count": 37,
   "metadata": {},
   "outputs": [
    {
     "data": {
      "image/png": "[encoded data removed]",
      "text/plain": [
       "<Figure size 640x480 with 1 Axes>"
      ]
     },
     "metadata": {},
     "output_type": "display_data"
    }
   ],
   "source": [
    "## 로지스틱 회귀##\n",
    "import numpy as np\n",
    "import matplotlib.pyplot as plt\n",
    "\n",
    "# 시그모이드 함수 구현\n",
    "z = np.arange(-5, 5, 0.1)\n",
    "phi = 1 / (1+np.exp(-z))\n",
    "plt.plot(z, phi)\n",
    "plt.xlabel('z')\n",
    "plt.ylabel('phi')\n",
    "plt.show()"
   ]
  },
  {
   "cell_type": "code",
   "execution_count": null,
   "metadata": {},
   "outputs": [],
   "source": []
  }
 ],
 "metadata": {
  "kernelspec": {
   "display_name": "Python 3",
   "language": "python",
   "name": "python3"
  },
  "language_info": {
   "codemirror_mode": {
    "name": "ipython",
    "version": 3
   },
   "file_extension": ".py",
   "mimetype": "text/x-python",
   "name": "python",
   "nbconvert_exporter": "python",
   "pygments_lexer": "ipython3",
   "version": "3.9.13"
  },
  "orig_nbformat": 4
 },
 "nbformat": 4,
 "nbformat_minor": 2
}
