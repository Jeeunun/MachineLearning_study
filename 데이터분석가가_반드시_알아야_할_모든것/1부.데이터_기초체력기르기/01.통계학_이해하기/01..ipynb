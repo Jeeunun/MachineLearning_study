{
 "cells": [
  {
   "cell_type": "markdown",
   "metadata": {},
   "source": [
    "1-1. 왜 통계학을 알아야 할까?\n",
    "\n",
    "01. 데이터 과학의 프로세스\n",
    "\n",
    "- 데이터수집 -> 데이터가공 -> 탐색적데이터분석/데이터시각화 -> M/L모델링 -> 결과 해석 및 적용\n",
    "\n",
    "1-2. 머신러닝과 전통적 통계학의 차이\n",
    "|머신러닝|통계학|\n",
    "|---|---|\n",
    "|목적: 예측(prediction) | 목적: 해석(explanation)|\n",
    "|||\n",
    "\n",
    "p21\n",
    "\n"
   ]
  }
 ],
 "metadata": {
  "language_info": {
   "name": "python"
  },
  "orig_nbformat": 4
 },
 "nbformat": 4,
 "nbformat_minor": 2
}
